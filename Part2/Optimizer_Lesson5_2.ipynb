{
 "cells": [
  {
   "cell_type": "code",
   "execution_count": 1,
   "metadata": {},
   "outputs": [],
   "source": [
    "%load_ext autoreload\n",
    "%autoreload 2\n",
    "\n",
    "%matplotlib inline"
   ]
  },
  {
   "cell_type": "code",
   "execution_count": 2,
   "metadata": {},
   "outputs": [],
   "source": [
    "from exp.nb_XLibrary import *"
   ]
  },
  {
   "cell_type": "code",
   "execution_count": 3,
   "metadata": {},
   "outputs": [],
   "source": [
    "from fastai import datasets as FAdataset"
   ]
  },
  {
   "cell_type": "markdown",
   "metadata": {},
   "source": [
    "# Path and data"
   ]
  },
  {
   "cell_type": "code",
   "execution_count": 4,
   "metadata": {},
   "outputs": [],
   "source": [
    "home_path = Path('.').resolve()\n",
    "data_path = home_path/'data'\n",
    "file_path = FAdataset.untar_data(FAdataset.URLs.IMAGENETTE_160, dest=data_path)"
   ]
  },
  {
   "cell_type": "code",
   "execution_count": 5,
   "metadata": {
    "collapsed": true
   },
   "outputs": [
    {
     "data": {
      "text/plain": [
       "LabeledData\n",
       "x: ImageList (12894 items)\n",
       "[PosixPath('/Users/xianli/Desktop/fast/Part2/data/imagenette-160/train/n03394916/n03394916_58454.JPEG'), PosixPath('/Users/xianli/Desktop/fast/Part2/data/imagenette-160/train/n03394916/n03394916_32588.JPEG'), PosixPath('/Users/xianli/Desktop/fast/Part2/data/imagenette-160/train/n03394916/n03394916_32422.JPEG'), PosixPath('/Users/xianli/Desktop/fast/Part2/data/imagenette-160/train/n03394916/n03394916_33663.JPEG'), PosixPath('/Users/xianli/Desktop/fast/Part2/data/imagenette-160/train/n03394916/n03394916_27948.JPEG'), PosixPath('/Users/xianli/Desktop/fast/Part2/data/imagenette-160/train/n03394916/n03394916_38644.JPEG'), PosixPath('/Users/xianli/Desktop/fast/Part2/data/imagenette-160/train/n03394916/n03394916_35076.JPEG'), PosixPath('/Users/xianli/Desktop/fast/Part2/data/imagenette-160/train/n03394916/n03394916_38214.JPEG'), PosixPath('/Users/xianli/Desktop/fast/Part2/data/imagenette-160/train/n03394916/n03394916_23008.JPEG'), PosixPath('/Users/xianli/Desktop/fast/Part2/data/imagenette-160/train/n03394916/n03394916_33008.JPEG')...]\n",
       "Path: /Users/xianli/Desktop/fast/Part2/data/imagenette-160\n",
       "y: ItemList (12894 items)\n",
       "[0, 0, 0, 0, 0, 0, 0, 0, 0, 0...]\n",
       "Path: /Users/xianli/Desktop/fast/Part2/data/imagenette-160"
      ]
     },
     "execution_count": 5,
     "metadata": {},
     "output_type": "execute_result"
    }
   ],
   "source": [
    "tfms = [make_rgb, ResizeFixed(128), to_byte_tensor, to_float_tensor]\n",
    "bs=128\n",
    "\n",
    "il = ImageList.from_files(file_path, tfms=tfms)\n",
    "sd = SplitData.split_by_func(il, partial(grandparent_splitter, valid_name='val'))\n",
    "ll = label_by_func(sd, parent_labeler, proc_y=CategoryProcessor())\n",
    "data = ll.to_databunch(bs, c_in=3, c_out=10, num_workers=1)\n",
    "data.train_ds\n"
   ]
  },
  {
   "cell_type": "markdown",
   "metadata": {},
   "source": [
    "Model"
   ]
  },
  {
   "cell_type": "code",
   "execution_count": 6,
   "metadata": {},
   "outputs": [],
   "source": [
    "def normalize_chan(x, mean, std):\n",
    "    return (x-mean[...,None,None]) / std[...,None,None]\n",
    "\n",
    "_m = tensor([0.47, 0.48, 0.45])\n",
    "_s = tensor([0.29, 0.28, 0.30])\n",
    "norm_imagenette = partial(normalize_chan, mean=_m, std=_s)"
   ]
  },
  {
   "cell_type": "code",
   "execution_count": 7,
   "metadata": {},
   "outputs": [],
   "source": [
    "nfs = [32,64,128,256]\n",
    "# removed cuda callback from here\n",
    "cbfs = [partial(AvgStatsCallback,accuracy),\n",
    "        partial(BatchTransformXCallback, norm_imagenette)]"
   ]
  },
  {
   "cell_type": "code",
   "execution_count": 8,
   "metadata": {},
   "outputs": [],
   "source": [
    "#image specific\n",
    "import math\n",
    "def prev_pow_2(x): return 2**math.floor(math.log2(x))\n",
    "def get_cnn_layers(data, nfs, layer, **kwargs):\n",
    "    def f(ni, nf, stride=2): return layer(ni, nf, 3, stride=stride, **kwargs)\n",
    "    l1 = data.c_in\n",
    "    l2 = prev_pow_2(l1*3*3)\n",
    "    layers =  [f(l1  , l2  , stride=1),\n",
    "               f(l2  , l2*2, stride=2),\n",
    "               f(l2*2, l2*4, stride=2)]\n",
    "    nfs = [l2*4] + nfs\n",
    "    layers += [f(nfs[i], nfs[i+1]) for i in range(len(nfs)-1)]\n",
    "    layers += [nn.AdaptiveAvgPool2d(1), Lambda(flatten),\n",
    "               nn.Linear(nfs[-1], data.c_out)]\n",
    "    return layers\n",
    "def get_cnn_model(data, nfs, layer, **kwargs):\n",
    "    return nn.Sequential(*get_cnn_layers(data, nfs, layer, **kwargs))\n",
    "def get_learn_run(nfs, data, lr, layer, cbs=None, opt_func=None, **kwargs):\n",
    "    model = get_cnn_model(data, nfs, layer, **kwargs)\n",
    "    init_cnn(model)\n",
    "    return get_runner(model, data, lr=lr, cbs=cbs, opt_func=opt_func)"
   ]
  },
  {
   "cell_type": "code",
   "execution_count": 25,
   "metadata": {},
   "outputs": [
    {
     "name": "stdout",
     "output_type": "stream",
     "text": [
      "train: [1.7266094574026678, tensor(0.4010)]\n",
      "valid: [1.388707275390625, tensor(0.5420)]\n"
     ]
    }
   ],
   "source": [
    "# vanilla SGD baseline performance\n",
    "learn,run = get_learn_run(nfs, data, 0.4, conv_layer, cbs=cbfs)\n",
    "run.fit(1, learn)"
   ]
  },
  {
   "cell_type": "markdown",
   "metadata": {},
   "source": [
    "# A better optimizer"
   ]
  },
  {
   "cell_type": "code",
   "execution_count": 9,
   "metadata": {},
   "outputs": [],
   "source": [
    "class Optimizer():\n",
    "    def __init__(self,params, steppers, **defaults):\n",
    "        self.param_groups = list(params)\n",
    "        # ensure param_groups is a list of list\n",
    "        if not isinstance(self.param_groups[0], list):\n",
    "            self.param_groups = [self.param_groups]\n",
    "        # init hyper-parameter dictionaries by defaults for each parameter group\n",
    "        self.hypers = [{**defaults} for _ in self.param_groups]\n",
    "        self.steppers = listify(steppers)\n",
    "    \n",
    "    def grad_params(self): # get all the parameters that have a gradient\n",
    "        return [(p,hyper) for pg,hyper in zip(self.param_groups,self.hypers)\n",
    "            for p in pg if p.grad is not None]\n",
    "    \n",
    "    def zero_grad(self):\n",
    "        for p, hyper in self.grad_params():\n",
    "            p.grad.detach_()\n",
    "            p.grad.zero_()\n",
    "    \n",
    "    def step(self):\n",
    "        for p, hyper in self.grad_params():\n",
    "            compose(p, self.steppers, **hyper) # these **hyper will be passed as parameters for stepper"
   ]
  },
  {
   "cell_type": "markdown",
   "metadata": {},
   "source": [
    "basic SGD stepper"
   ]
  },
  {
   "cell_type": "code",
   "execution_count": 10,
   "metadata": {},
   "outputs": [],
   "source": [
    "#export\n",
    "def sgd_step(p, lr, **kwargs):\n",
    "    p.data.add_(-lr, p.grad.data) # this is p -= lr*p.grad\n",
    "    return p"
   ]
  },
  {
   "cell_type": "code",
   "execution_count": 11,
   "metadata": {},
   "outputs": [],
   "source": [
    "opt_func = partial(Optimizer, steppers=[sgd_step])"
   ]
  },
  {
   "cell_type": "code",
   "execution_count": 12,
   "metadata": {},
   "outputs": [],
   "source": [
    "sched = combine_scheds([0.3, 0.7], [sched_cos(0.3, 0.6), sched_cos(0.6, 0.2)]) "
   ]
  },
  {
   "cell_type": "code",
   "execution_count": 13,
   "metadata": {},
   "outputs": [],
   "source": [
    "cbfs = [partial(AvgStatsCallback,accuracy),\n",
    "        Recorder,\n",
    "        partial(ParamScheduler, 'lr', sched)]"
   ]
  },
  {
   "cell_type": "code",
   "execution_count": 15,
   "metadata": {},
   "outputs": [],
   "source": [
    "learn,run = get_learn_run(nfs, data, 0.4, conv_layer, cbs=cbfs, opt_func=opt_func)"
   ]
  },
  {
   "cell_type": "code",
   "execution_count": 35,
   "metadata": {},
   "outputs": [
    {
     "name": "stdout",
     "output_type": "stream",
     "text": [
      "train: [1.7781989806305258, tensor(0.3843)]\n",
      "valid: [1.441894287109375, tensor(0.5180)]\n",
      "CPU times: user 4min 24s, sys: 1min 20s, total: 5min 45s\n",
      "Wall time: 2min 56s\n"
     ]
    }
   ],
   "source": [
    "%time run.fit(1, learn)"
   ]
  },
  {
   "cell_type": "code",
   "execution_count": 40,
   "metadata": {},
   "outputs": [
    {
     "data": {
      "image/png": "[encoded data removed]",
      "text/plain": [
       "<Figure size 432x288 with 1 Axes>"
      ]
     },
     "metadata": {
      "needs_background": "light"
     },
     "output_type": "display_data"
    }
   ],
   "source": [
    "run.recorder.plot_loss()"
   ]
  },
  {
   "cell_type": "code",
   "execution_count": 41,
   "metadata": {},
   "outputs": [
    {
     "data": {
      "image/png": "[encoded data removed]",
      "text/plain": [
       "<Figure size 432x288 with 1 Axes>"
      ]
     },
     "metadata": {
      "needs_background": "light"
     },
     "output_type": "display_data"
    }
   ],
   "source": [
    "run.recorder.plot_lr()"
   ]
  },
  {
   "cell_type": "markdown",
   "metadata": {},
   "source": [
    "# Weight decay"
   ]
  },
  {
   "cell_type": "markdown",
   "metadata": {},
   "source": [
    "weight decay vs. L2 regularization:\n",
    "1. In basic SGD, they are the same thing. But implementation-wise they are different:\n",
    "\n",
    " - L2 regualrizatoin \n",
    "``` python\n",
    "loss_with_wd = loss + (wd/2) * (weights**2).sum()\n",
    "```\n",
    " - weight decay\n",
    "``` python\n",
    "weight.grad += wd * weight\n",
    "weight = weight - lr*(weight.grad + wd*weight)\n",
    "```\n",
    " It's called \"weight decay\", as each weight is decayed by a factor `lr * wd`\n",
    " \n",
    " \n",
    "2. In momentum, RMSProp and Adam, additional terms around gradient are there, so the update is different between L2 regularization and weight decay\n",
    " - Weight decay is subtracting `lr*wd*weight` from the weights"
   ]
  },
  {
   "cell_type": "code",
   "execution_count": 14,
   "metadata": {},
   "outputs": [],
   "source": [
    "#export\n",
    "def weight_decay(p, lr, wd, **kwargs):\n",
    "    p.data.mul_(1-lr*wd)\n",
    "    return p\n",
    "weight_decay._defaults = dict(wd=0.) # set a hyperparameter _default\n",
    "\n",
    "def l2_reg(p, lr, wd, **kwargs):\n",
    "    p.grad.data.add_(wd, p.data)\n",
    "    return p\n",
    "l2_reg._defaults = dict(wd=0.)"
   ]
  },
  {
   "cell_type": "code",
   "execution_count": 17,
   "metadata": {},
   "outputs": [
    {
     "data": {
      "text/plain": [
       "{'wd': 0.0}"
      ]
     },
     "execution_count": 17,
     "metadata": {},
     "output_type": "execute_result"
    }
   ],
   "source": [
    "l2_reg._defaults"
   ]
  },
  {
   "cell_type": "code",
   "execution_count": 15,
   "metadata": {},
   "outputs": [],
   "source": [
    "#export\n",
    "def get_defaults(d):\n",
    "    return getattr(d,'_defaults', {})\n",
    "\n",
    "# update the default hyperparameters using the built-in \n",
    "# _default dict value from the steppers if no default \n",
    "# has been provided by the user\n",
    "def maybe_update(steppers, defaults, get_stepper_defaults):\n",
    "    for step in steppers:\n",
    "        for k, v in get_stepper_defaults(step).items():\n",
    "            if k not in defaults:\n",
    "                defaults[k] = v"
   ]
  },
  {
   "cell_type": "code",
   "execution_count": 16,
   "metadata": {},
   "outputs": [],
   "source": [
    "#export\n",
    "# take default values of the steppers when none is provided\n",
    "class Optimizer():\n",
    "    def __init__(self, params, steppers, **defaults):\n",
    "        self.steppers = listify(steppers)\n",
    "        maybe_update(self.steppers, defaults, get_defaults) \n",
    "        # might be a generator\n",
    "        self.param_groups = list(params)\n",
    "        # ensure params is a list of lists\n",
    "        if not isinstance(self.param_groups[0], list): self.param_groups = [self.param_groups]\n",
    "        self.hypers = [{**defaults} for pg in self.param_groups] # same default for each param_group\n",
    "\n",
    "    def grad_params(self):\n",
    "        return [(p,hyper) for pg,hyper in zip(self.param_groups,self.hypers)\n",
    "            for p in pg if p.grad is not None]\n",
    "\n",
    "    def zero_grad(self):\n",
    "        for p,hyper in self.grad_params():\n",
    "            p.grad.detach_()\n",
    "            p.grad.zero_()\n",
    "\n",
    "    def step(self):\n",
    "        for p,hyper in self.grad_params(): \n",
    "            compose(p, self.steppers, **hyper)"
   ]
  },
  {
   "cell_type": "code",
   "execution_count": 17,
   "metadata": {},
   "outputs": [],
   "source": [
    "#export\n",
    "# the order of the steppers do matter\n",
    "sgd_opt = partial(Optimizer, steppers=[weight_decay, sgd_step])"
   ]
  },
  {
   "cell_type": "code",
   "execution_count": 21,
   "metadata": {},
   "outputs": [
    {
     "data": {
      "text/plain": [
       "(0.0, 0.1)"
      ]
     },
     "execution_count": 21,
     "metadata": {},
     "output_type": "execute_result"
    }
   ],
   "source": [
    "# test\n",
    "learn,run = get_learn_run(nfs, data, 0.4, conv_layer, cbs=cbfs, opt_func=sgd_opt)\n",
    "model = learn.model\n",
    "opt = sgd_opt(model.parameters(), lr=0.1)\n",
    "opt.hypers[0]['wd'], opt.hypers[0]['lr']"
   ]
  },
  {
   "cell_type": "code",
   "execution_count": 30,
   "metadata": {},
   "outputs": [
    {
     "data": {
      "text/plain": [
       "(23, torch.Size([16, 3, 3, 3]))"
      ]
     },
     "execution_count": 30,
     "metadata": {},
     "output_type": "execute_result"
    }
   ],
   "source": [
    "len(list(model.parameters())), list(model.parameters())[0].shape"
   ]
  },
  {
   "cell_type": "code",
   "execution_count": 22,
   "metadata": {},
   "outputs": [
    {
     "data": {
      "text/plain": [
       "(0.001, 0.1)"
      ]
     },
     "execution_count": 22,
     "metadata": {},
     "output_type": "execute_result"
    }
   ],
   "source": [
    "# when default is provided, it override the built-in defaults\n",
    "opt = sgd_opt(model.parameters(), lr=0.1,wd=1e-3)\n",
    "opt.hypers[0]['wd'], opt.hypers[0]['lr']"
   ]
  },
  {
   "cell_type": "code",
   "execution_count": 53,
   "metadata": {
    "scrolled": true
   },
   "outputs": [
    {
     "name": "stdout",
     "output_type": "stream",
     "text": [
      "train: [1.794472295738328, tensor(0.3785)]\n",
      "valid: [2.404113037109375, tensor(0.2580)]\n",
      "CPU times: user 4min 32s, sys: 1min 23s, total: 5min 55s\n",
      "Wall time: 3min 3s\n"
     ]
    }
   ],
   "source": [
    "# test fit\n",
    "cbfs = [partial(AvgStatsCallback,accuracy),\n",
    "        Recorder,\n",
    "        partial(ParamScheduler, 'lr', sched)]\n",
    "learn,run = get_learn_run(nfs, data, 0.3, conv_layer, cbs=cbfs, opt_func=partial(sgd_opt, wd=0.01))\n",
    "%time run.fit(1, learn)"
   ]
  },
  {
   "cell_type": "code",
   "execution_count": 54,
   "metadata": {},
   "outputs": [
    {
     "data": {
      "image/png": "[encoded data removed]",
      "text/plain": [
       "<Figure size 432x288 with 1 Axes>"
      ]
     },
     "metadata": {
      "needs_background": "light"
     },
     "output_type": "display_data"
    }
   ],
   "source": [
    "run.recorder.plot_loss()"
   ]
  },
  {
   "cell_type": "markdown",
   "metadata": {},
   "source": [
    "# Momentum\n",
    "- Need to save moving average of the gradients"
   ]
  },
  {
   "cell_type": "code",
   "execution_count": 18,
   "metadata": {},
   "outputs": [],
   "source": [
    "#export\n",
    "class StatefulOptimizer(Optimizer):\n",
    "    def __init__(self, params, steppers, stats=None, **defaults):\n",
    "        self.stats = listify(stats)\n",
    "        maybe_update(self.stats, defaults, get_defaults)\n",
    "        # only difference with Optimizer is that it keeps track of stats \n",
    "        super().__init__(params, steppers, **defaults)\n",
    "        self.state = {} # can be many different kinds of states\n",
    "        \n",
    "    def step(self):\n",
    "        for p, hyper in self.grad_params(): # for each param with a gradient\n",
    "            if p not in self.state: # if it's not being recorded\n",
    "                self.state[p] = {} # initialize the dictionary\n",
    "                # update default values only if not exist already\n",
    "                maybe_update(self.stats, self.state[p], lambda o: o.init_state(p))\n",
    "            state = self.state[p] # default states of the parameter \n",
    "            for stat in self.stats: # multiple stats can be recorded\n",
    "                state = stat.update(p, state, **hyper) # handle each stat using their own class\n",
    "            compose(p,self.steppers,**state, **hyper) # does self.steppers(p, **state, **hyper)\n",
    "            self.state[p] = state # save current state\n"
   ]
  },
  {
   "cell_type": "code",
   "execution_count": 19,
   "metadata": {},
   "outputs": [],
   "source": [
    "#export\n",
    "class Stat(): # base Stat class\n",
    "    _defaults = {}\n",
    "    def init_state(self, p):\n",
    "        raise NotImplementedError\n",
    "    def update(self, p, state, **kwargs):\n",
    "        raise NotImplementedError"
   ]
  },
  {
   "cell_type": "code",
   "execution_count": 20,
   "metadata": {},
   "outputs": [],
   "source": [
    "# one example of Stat --> a new version available below\n",
    "class AverageGrad(Stat):\n",
    "    _defaults = dict(mom=0.9)\n",
    "    def init_state(self,p):\n",
    "        return {'grad_avg': torch.zeros_like(p.grad.data)}\n",
    "    def update(self, p, state, mom, **kwargs):\n",
    "        state['grad_avg'].mul_(mom).add_(p.grad.data) # grad_avg = mom*grad_avg + p.grad\n",
    "        return state"
   ]
  },
  {
   "cell_type": "code",
   "execution_count": 21,
   "metadata": {},
   "outputs": [],
   "source": [
    "#export\n",
    "# A momentum stepper that can use the grad_avg state\n",
    "def momentum_step(p, lr, grad_avg, **kwargs):\n",
    "    p.data.add_(-lr, grad_avg) # p -= lr*grad_avg\n",
    "    return p"
   ]
  },
  {
   "cell_type": "code",
   "execution_count": 22,
   "metadata": {},
   "outputs": [],
   "source": [
    "sgd_mom_opt = partial(StatefulOptimizer, steppers = [momentum_step,weight_decay],\n",
    "                     stats=AverageGrad(), wd=0.01)\n"
   ]
  },
  {
   "cell_type": "code",
   "execution_count": 38,
   "metadata": {},
   "outputs": [],
   "source": [
    "learn,run = get_learn_run(nfs, data, 0.3, conv_layer, cbs=cbfs, opt_func=sgd_mom_opt)"
   ]
  },
  {
   "cell_type": "code",
   "execution_count": 39,
   "metadata": {},
   "outputs": [
    {
     "name": "stdout",
     "output_type": "stream",
     "text": [
      "train: [1.883537310231503, tensor(0.3506)]\n",
      "valid: [1.73543798828125, tensor(0.3920)]\n"
     ]
    }
   ],
   "source": [
    "run.fit(1,learn)"
   ]
  },
  {
   "cell_type": "code",
   "execution_count": 40,
   "metadata": {},
   "outputs": [
    {
     "data": {
      "image/png": "[encoded data removed]",
      "text/plain": [
       "<Figure size 432x288 with 1 Axes>"
      ]
     },
     "metadata": {
      "needs_background": "light"
     },
     "output_type": "display_data"
    }
   ],
   "source": [
    "run.recorder.plot_loss()"
   ]
  },
  {
   "cell_type": "code",
   "execution_count": 41,
   "metadata": {},
   "outputs": [
    {
     "data": {
      "image/png": "[encoded data removed]",
      "text/plain": [
       "<Figure size 432x288 with 1 Axes>"
      ]
     },
     "metadata": {
      "needs_background": "light"
     },
     "output_type": "display_data"
    }
   ],
   "source": [
    "run.recorder.plot_lr()"
   ]
  },
  {
   "cell_type": "markdown",
   "metadata": {},
   "source": [
    "# Debiasing\n",
    "Debiasing is here to correct the wrong information we may have in the very first batch. The debias term corresponds to the sum of the coefficient in our moving average. At the time step i, our average is:\n",
    "\n",
    "$\\begin{align*}\n",
    "avg_{i} &= \\beta\\ avg_{i-1} + (1-\\beta)\\ v_{i} = \\beta\\ (\\beta\\ avg_{i-2} + (1-\\beta)\\ v_{i-1}) + (1-\\beta)\\ v_{i} \\\\\n",
    "&= \\beta^{2}\\ avg_{i-2} + (1-\\beta)\\ \\beta\\ v_{i-1} + (1-\\beta)\\ v_{i} \\\\\n",
    "&= \\beta^{3}\\ avg_{i-3} + (1-\\beta)\\ \\beta^{2}\\ v_{i-2} + (1-\\beta)\\ \\beta\\ v_{i-1} + (1-\\beta)\\ v_{i} \\\\\n",
    "&\\vdots \\\\\n",
    "&= (1-\\beta)\\ \\beta^{i}\\ v_{0} + (1-\\beta)\\ \\beta^{i-1}\\ v_{1} + \\cdots + (1-\\beta)\\ \\beta^{2}\\ v_{i-2} + (1-\\beta)\\ \\beta\\  v_{i-1} + (1-\\beta)\\ v_{i}\n",
    "\\end{align*}$\n",
    "\n",
    "and so the sum of the coefficients is\n",
    "\n",
    "$\\begin{align*}\n",
    "S &=(1-\\beta)\\ \\beta^{i} + (1-\\beta)\\ \\beta^{i-1} + \\cdots + (1-\\beta)\\ \\beta^{2} + (1-\\beta)\\ \\beta + (1-\\beta) \\\\\n",
    "&= (\\beta^{i} - \\beta^{i+1}) + (\\beta^{i-1} - \\beta^{i}) + \\cdots + (\\beta^{2} - \\beta^{3}) + (\\beta - \\beta^{2}) + (1-\\beta) \\\\\n",
    "&= 1 - \\beta^{i+1}\n",
    "\\end{align*}$\n",
    "\n",
    "since all the other terms cancel out each other.\n",
    "\n",
    "By dividing by this term, we make our moving average a true average (in the sense that all the coefficients we used for the average sum up to 1)."
   ]
  },
  {
   "cell_type": "markdown",
   "metadata": {},
   "source": [
    "# Adam and friends"
   ]
  },
  {
   "cell_type": "code",
   "execution_count": 23,
   "metadata": {},
   "outputs": [],
   "source": [
    "#export\n",
    "# Adam needs momentum dampening so we added it to AvgGrad\n",
    "class AverageGrad(Stat):\n",
    "    _defaults = dict(mom=0.9)\n",
    "    def __init__(self, dampening:bool=False):\n",
    "        self.dampening = dampening\n",
    "    def init_state(self, p):\n",
    "        return {'grad_avg': torch.zeros_like(p.grad.data)}\n",
    "    def update(self, p, state, mom, **kwargs):\n",
    "        # mom_damp = 1 - mom # mom_damp = 1 is undamped\n",
    "        state['mom_damp'] = 1.-mom if self.dampening else 1.\n",
    "        # grad_avg = mom*grad_avg - mom_damp*p.grad\n",
    "        state['grad_avg'].mul_(mom).add_(state['mom_damp'], p.grad.data)\n",
    "        return state\n",
    "\n",
    "# record moving avg of gradient squared\n",
    "class AverageSqrGrad(Stat):\n",
    "    _defaults = dict(sqr_mom=0.99)\n",
    "    def __init__(self, dampening:bool=True):\n",
    "        self.dampening = dampening\n",
    "    def init_state(self,p):\n",
    "        return {'sqr_avg': torch.zeros_like(p.grad.data)}\n",
    "    def update(self,p,state,sqr_mom,**kwargs):\n",
    "        state['sqr_damp'] = 1 - sqr_mom if self.dampening else 1.\n",
    "        # sqr_avg = sqr_mom*sqr_avg + sqr_damp*p.grad^2\n",
    "        state['sqr_avg'].mul_(sqr_mom).addcmul_(state['sqr_damp'], p.grad.data, p.grad.data)\n",
    "        return state\n",
    "\n",
    "# count number of steps done during training for debiasing\n",
    "class StepCount(Stat):\n",
    "    def init_state(self, p):\n",
    "        return {'step':0}\n",
    "    def update(self,p,state,**kwargs):\n",
    "        state['step'] +=1\n",
    "        return state\n",
    "    "
   ]
  },
  {
   "cell_type": "markdown",
   "metadata": {},
   "source": [
    "This helper function computes the debias term. If we dampening, `damp = 1 - mom` and we get the same result as before. If we don't use dampening, (`damp = 1`) we will need to divide by `1 - mom` because that term is missing everywhere."
   ]
  },
  {
   "cell_type": "code",
   "execution_count": 24,
   "metadata": {},
   "outputs": [],
   "source": [
    "#export\n",
    "# ???\n",
    "def debias(mom,damp,step):\n",
    "    return damp * (1 - mom**step) / (1-mom)\n",
    "\n",
    "# Adam step --> !!! look at the original formula!\n",
    "def adam_step(p, lr, mom, mom_damp, step, sqr_mom, sqr_damp, grad_avg, sqr_avg, eps, **kwargs):\n",
    "    debias1 = debias(mom, mom_damp, step)\n",
    "    debias2 = debias(sqr_mom, sqr_damp, step)\n",
    "    # p -= lr/(debias1) * grad_avg/(sqrt(sqr_avg/debias2) + eps)\n",
    "    p.data.addcdiv_(-lr/debias1, grad_avg, (sqr_avg/debias2).sqrt() + eps)\n",
    "    return p\n",
    "adam_step._defaults=dict(eps=1e-5)\n",
    "\n",
    "def adam_opt(xtra_step=None, **kwargs):\n",
    "    return partial(StatefulOptimizer, steppers=[adam_step, weight_decay]+listify(xtra_step),\n",
    "                  stats=[AverageGrad(dampening=True), AverageSqrGrad(),StepCount()], **kwargs)"
   ]
  },
  {
   "cell_type": "code",
   "execution_count": 27,
   "metadata": {},
   "outputs": [],
   "source": [
    "# note different learning rates should be used for different optimizers\n",
    "cbfs = [partial(AvgStatsCallback,accuracy), Recorder]\n",
    "learn,run = get_learn_run(nfs, data, 0.001, conv_layer, cbs=cbfs, opt_func=adam_opt())"
   ]
  },
  {
   "cell_type": "code",
   "execution_count": 28,
   "metadata": {},
   "outputs": [
    {
     "name": "stdout",
     "output_type": "stream",
     "text": [
      "train: [1.732716191881883, tensor(0.4058)]\n",
      "valid: [1.370609130859375, tensor(0.5360)]\n"
     ]
    }
   ],
   "source": [
    "run.fit(1,learn) # amazing!"
   ]
  },
  {
   "cell_type": "markdown",
   "metadata": {},
   "source": [
    "# LAMB\n",
    "LAMB from a [very recent paper](https://arxiv.org/pdf/1904.00962.pdf):\n",
    "\n",
    "$\\begin{align}\n",
    "g_{t}^{l} &= \\nabla L(w_{t-1}^{l}, x_{t}) \\\\\n",
    "m_{t}^{l} &= \\beta_{1} m_{t-1}^{l} + (1-\\beta_{1}) g_{t}^{l} \\\\\n",
    "v_{t}^{l} &= \\beta_{2} v_{t-1}^{l} + (1-\\beta_{2}) g_{t}^{l} \\odot g_{t}^{l} \\\\\n",
    "m_{t}^{l} &= m_{t}^{l} / (1 - \\beta_{1}^{t}) \\\\\n",
    "v_{t}^{l} &= v_{t}^{l} / (1 - \\beta_{2}^{t}) \\\\\n",
    "r_{1} &= \\|w_{t-1}^{l}\\|_{2} \\\\\n",
    "s_{t}^{l} &= \\frac{m_{t}^{l}}{\\sqrt{v_{t}^{l}} + \\epsilon} + \\lambda w_{t-1}^{l} \\\\ \n",
    "r_{2} &= \\| s_{t}^{l} \\|_{2} \\\\\n",
    "\\eta^{l} &= \\eta * r_{1}/r_{2} \\\\ \n",
    "w_{t}^{l} &= w_{t}^{l-1} - \\eta_{l} * s_{t}^{l} \\\\\n",
    "\\end{align}$"
   ]
  },
  {
   "cell_type": "code",
   "execution_count": 29,
   "metadata": {},
   "outputs": [],
   "source": [
    "def lamb_step(p, lr, mom, mom_damp, step, sqr_mom, sqr_damp, grad_avg, sqr_avg, eps, wd, **kwargs):\n",
    "    debias1 = debias(mom, mom_damp, step)\n",
    "    debias2 = debias(sqr_mom, sqr_damp, step)\n",
    "    r1 = p.data.pow(2).mean().sqrt()\n",
    "    step = (grad_avg/debias1)/((sqr_avg/debias2).sqrt()+eps) + wd*p.data # weight decay built in here\n",
    "    r2 = step.pow(2).mean().sqrt()\n",
    "    # where does this min come from?\n",
    "    p.data.add_(-lr*min(r1/r2, 10), step)\n",
    "    return p\n",
    "lamb_step._defaults = dict(eps=1e-6, wd=0.)\n",
    "\n",
    "def lamb_opt(xtra_step=None, **kwargs):\n",
    "    return partial(StatefulOptimizer, steppers=[lamb_step]+listify(xtra_step),\n",
    "                  stats=[AverageGrad(dampening=True), AverageSqrGrad(),StepCount()], **kwargs)"
   ]
  },
  {
   "cell_type": "code",
   "execution_count": 30,
   "metadata": {},
   "outputs": [],
   "source": [
    "learn,run = get_learn_run(nfs, data, 0.003, conv_layer, cbs=cbfs, opt_func=lamb_opt())"
   ]
  },
  {
   "cell_type": "code",
   "execution_count": 31,
   "metadata": {},
   "outputs": [
    {
     "name": "stdout",
     "output_type": "stream",
     "text": [
      "train: [1.9037247520649139, tensor(0.3322)]\n",
      "valid: [1.585472900390625, tensor(0.4500)]\n"
     ]
    }
   ],
   "source": [
    "run.fit(1,learn)"
   ]
  },
  {
   "cell_type": "code",
   "execution_count": null,
   "metadata": {},
   "outputs": [],
   "source": []
  },
  {
   "cell_type": "markdown",
   "metadata": {},
   "source": [
    "# Export"
   ]
  },
  {
   "cell_type": "code",
   "execution_count": null,
   "metadata": {},
   "outputs": [],
   "source": [
    "!python notebook2script.py Optimizer_Lesson5_2.ipynb"
   ]
  }
 ],
 "metadata": {
  "kernelspec": {
   "display_name": "Python 3",
   "language": "python",
   "name": "python3"
  },
  "language_info": {
   "codemirror_mode": {
    "name": "ipython",
    "version": 3
   },
   "file_extension": ".py",
   "mimetype": "text/x-python",
   "name": "python",
   "nbconvert_exporter": "python",
   "pygments_lexer": "ipython3",
   "version": "3.7.3"
  }
 },
 "nbformat": 4,
 "nbformat_minor": 2
}
