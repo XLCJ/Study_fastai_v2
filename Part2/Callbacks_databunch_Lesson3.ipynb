{
 "cells": [
  {
   "cell_type": "code",
   "execution_count": 1,
   "metadata": {},
   "outputs": [],
   "source": [
    "from pathlib import Path\n",
    "import gzip\n",
    "import pickle\n",
    "\n",
    "%matplotlib inline"
   ]
  },
  {
   "cell_type": "code",
   "execution_count": 2,
   "metadata": {},
   "outputs": [],
   "source": [
    "#export\n",
    "import torch\n",
    "from torch import nn, optim\n",
    "import torch.nn.functional as F\n",
    "from torch.utils.data import DataLoader\n",
    "\n",
    "from functools import partial\n",
    "import math\n",
    "import matplotlib.pyplot as plt"
   ]
  },
  {
   "cell_type": "code",
   "execution_count": null,
   "metadata": {},
   "outputs": [],
   "source": [
    "# MNIST_url = 'http://deeplearning.net/data/mnist/mnist.pkl'"
   ]
  },
  {
   "cell_type": "code",
   "execution_count": 3,
   "metadata": {},
   "outputs": [
    {
     "data": {
      "text/plain": [
       "PosixPath('/Users/xianli/Desktop/fast/Part2/data/mnist.pkl.gz')"
      ]
     },
     "execution_count": 3,
     "metadata": {},
     "output_type": "execute_result"
    }
   ],
   "source": [
    "home_path = Path('.').resolve()\n",
    "data_path = home_path/\"data\"\n",
    "file_name = data_path/'mnist.pkl.gz'\n",
    "file_name"
   ]
  },
  {
   "cell_type": "code",
   "execution_count": 4,
   "metadata": {},
   "outputs": [
    {
     "data": {
      "text/plain": [
       "(torch.Size([50000, 784]),\n",
       " torch.Size([50000]),\n",
       " torch.Size([10000, 784]),\n",
       " torch.Size([10000]))"
      ]
     },
     "execution_count": 4,
     "metadata": {},
     "output_type": "execute_result"
    }
   ],
   "source": [
    "with gzip.open(file_name,'r') as f:\n",
    "    (x_train, y_train), (x_valid, y_valid), _ = pickle.load(f, encoding='latin-1')\n",
    "x_train, y_train, x_valid, y_valid = map(torch.tensor, (x_train, y_train, x_valid, y_valid))\n",
    "\n",
    "x_train.shape, y_train.shape, x_valid.shape, y_valid.shape"
   ]
  },
  {
   "cell_type": "markdown",
   "metadata": {},
   "source": [
    "# Prepare dataloader"
   ]
  },
  {
   "cell_type": "code",
   "execution_count": 5,
   "metadata": {},
   "outputs": [],
   "source": [
    "#export\n",
    "class myDataset():\n",
    "    def __init__(self,x,y):\n",
    "        self.x, self.y = x, y\n",
    "    def __len__(self):\n",
    "        return self.x.shape[0]\n",
    "    def __getitem__(self,i):\n",
    "        return self.x[i], self.y[i]"
   ]
  },
  {
   "cell_type": "code",
   "execution_count": 6,
   "metadata": {},
   "outputs": [],
   "source": [
    "bs = 64\n",
    "ds_train = myDataset(x_train, y_train)\n",
    "ds_valid = myDataset(x_valid, y_valid)\n"
   ]
  },
  {
   "cell_type": "code",
   "execution_count": 15,
   "metadata": {},
   "outputs": [],
   "source": [
    "#export\n",
    "def get_dls(ds_train, ds_valid, bs, **kwargs):\n",
    "    return DataLoader(ds_train, bs, shuffle=True, **kwargs), DataLoader(ds_valid, bs, shuffle=False, **kwargs)"
   ]
  },
  {
   "cell_type": "code",
   "execution_count": 8,
   "metadata": {},
   "outputs": [
    {
     "data": {
      "text/plain": [
       "(782, 157)"
      ]
     },
     "execution_count": 8,
     "metadata": {},
     "output_type": "execute_result"
    }
   ],
   "source": [
    "dl_train, dl_valid = get_dls(ds_train, ds_valid, bs)\n",
    "len(dl_train), len(dl_valid) # len(dataloader) returns number of batches"
   ]
  },
  {
   "cell_type": "markdown",
   "metadata": {},
   "source": [
    "### refactor all the data into a databunch"
   ]
  },
  {
   "cell_type": "markdown",
   "metadata": {},
   "source": [
    "Factor out the connected pieces of info out of the fit() argument list\n",
    "\n",
    "`fit(epochs, model, loss_func, opt, train_dl, valid_dl)`\n",
    "\n",
    "Let's replace it with something that looks like this:\n",
    "\n",
    "`fit(1, learn)`\n",
    "\n",
    "This will allow us to tweak what's happening inside the training loop in other places of the code because the `Learner` object will be mutable, so changing any of its attribute elsewhere will be seen in our training loop."
   ]
  },
  {
   "cell_type": "code",
   "execution_count": 9,
   "metadata": {},
   "outputs": [],
   "source": [
    "#export\n",
    "class DataBunch():\n",
    "    def __init__(self, dl_train,dl_valid, c=None):\n",
    "        self.dl_train = dl_train\n",
    "        self.dl_valid = dl_valid\n",
    "        self.c=c # number of output classes\n",
    "    \n",
    "    @property # make an alias for train_ds\n",
    "    def train_ds(self):\n",
    "        return self.dl_train.dataset\n",
    "    @property\n",
    "    def valid_ds(self):\n",
    "        return self.dl_valid.dataset\n"
   ]
  },
  {
   "cell_type": "code",
   "execution_count": 10,
   "metadata": {},
   "outputs": [
    {
     "data": {
      "text/plain": [
       "50000"
      ]
     },
     "execution_count": 10,
     "metadata": {},
     "output_type": "execute_result"
    }
   ],
   "source": [
    "data_bun = DataBunch(*get_dls(ds_train, ds_valid, bs), 10)\n",
    "data_bun.train_ds.x.shape[0]"
   ]
  },
  {
   "cell_type": "code",
   "execution_count": 11,
   "metadata": {},
   "outputs": [],
   "source": [
    "fan_in, nh, fan_out = 784, 50, 10\n",
    "lr = 0.01\n",
    "def get_model():\n",
    "    model = nn.Sequential(nn.Linear(fan_in,nh),nn.ReLU(),nn.Linear(nh,fan_out))\n",
    "    opt = optim.SGD(model.parameters(), lr=lr)\n",
    "    return model, opt\n"
   ]
  },
  {
   "cell_type": "code",
   "execution_count": 13,
   "metadata": {},
   "outputs": [],
   "source": [
    "#export\n",
    "def accuracy(pred, targ):\n",
    "    return (torch.argmax(pred, dim = 1)==targ).float().mean()"
   ]
  },
  {
   "cell_type": "code",
   "execution_count": 14,
   "metadata": {},
   "outputs": [],
   "source": [
    "class Learner():\n",
    "    def __init__(self, model, opt,loss_func, data):\n",
    "        self.model = model\n",
    "        self.loss_func = loss_func\n",
    "        self.opt = opt\n",
    "        self.data=data"
   ]
  },
  {
   "cell_type": "markdown",
   "metadata": {},
   "source": [
    "### input all elements and fit"
   ]
  },
  {
   "cell_type": "code",
   "execution_count": 16,
   "metadata": {},
   "outputs": [],
   "source": [
    "data = DataBunch(*get_dls(ds_train, ds_valid, bs), c = 10) # package all the data\n",
    "loss_func = F.cross_entropy\n",
    "metric = accuracy\n",
    "learner = Learner(*get_model(),loss_func, data)"
   ]
  },
  {
   "cell_type": "code",
   "execution_count": 17,
   "metadata": {},
   "outputs": [],
   "source": [
    "def fit(epochs, learner):\n",
    "    for ep in range(epochs):\n",
    "        learner.model.train()\n",
    "        for xb, yb in learner.data.dl_train:\n",
    "            pred = learner.model(xb)\n",
    "            loss = learner.loss_func(pred, yb)\n",
    "            loss.backward()\n",
    "            learner.opt.step()\n",
    "            learner.opt.zero_grad()\n",
    "        \n",
    "        learner.model.eval()\n",
    "        with torch.no_grad():\n",
    "            tot_loss, tot_acc = 0., 0.\n",
    "            for xb, yb in learner.data.dl_valid:\n",
    "                pred = learner.model(xb)\n",
    "                loss = learner.loss_func(pred, yb)\n",
    "                tot_loss += loss\n",
    "                if learner.metric is not None:\n",
    "                    acc = learner.metric(pred, yb)\n",
    "                    tot_acc += acc\n",
    "            avg_loss = tot_loss/len(learner.data.dl_valid)\n",
    "            if learner.metric is not None:\n",
    "                avg_acc = tot_acc/len(learner.data.dl_valid)\n",
    "        print(f'Epoch #{ep+1}, loss = {avg_loss}, accuracy = {avg_acc}')\n",
    "    return avg_loss, avg_acc"
   ]
  },
  {
   "cell_type": "code",
   "execution_count": 18,
   "metadata": {},
   "outputs": [
    {
     "name": "stdout",
     "output_type": "stream",
     "text": [
      "Epoch #1, loss = 0.6921629309654236, accuracy = 0.8561902642250061\n",
      "Epoch #2, loss = 0.4329378306865692, accuracy = 0.8930135369300842\n",
      "Epoch #3, loss = 0.36303117871284485, accuracy = 0.9012739062309265\n",
      "Epoch #4, loss = 0.33092430233955383, accuracy = 0.9106289744377136\n",
      "Epoch #5, loss = 0.31107544898986816, accuracy = 0.9127189517021179\n"
     ]
    },
    {
     "data": {
      "text/plain": [
       "(tensor(0.3111), tensor(0.9127))"
      ]
     },
     "execution_count": 18,
     "metadata": {},
     "output_type": "execute_result"
    }
   ],
   "source": [
    "fit(5,learner)"
   ]
  },
  {
   "cell_type": "markdown",
   "metadata": {},
   "source": [
    "# Callback version from beginning"
   ]
  },
  {
   "cell_type": "code",
   "execution_count": 19,
   "metadata": {},
   "outputs": [],
   "source": [
    "#export\n",
    "# camel case styple to snake case style naming, to be checked later\n",
    "import re\n",
    "\n",
    "_camel_re1 = re.compile('(.)([A-Z][a-z]+)')\n",
    "_camel_re2 = re.compile('([a-z0-9])([A-Z])')\n",
    "def camel2snake(name):\n",
    "    s1 = re.sub(_camel_re1, r'\\1_\\2', name)\n",
    "    return re.sub(_camel_re2, r'\\1_\\2', s1).lower()"
   ]
  },
  {
   "cell_type": "code",
   "execution_count": 7,
   "metadata": {},
   "outputs": [
    {
     "name": "stdout",
     "output_type": "stream",
     "text": [
      "bbb\n",
      "0\n",
      "None\n"
     ]
    }
   ],
   "source": [
    "a, b = 1, 'bbb'\n",
    "print(a and b)\n",
    "\n",
    "a, b = 0, 'bbb'\n",
    "print(a and b)\n",
    "\n",
    "a, b = 'aa', None\n",
    "print(a and b)"
   ]
  },
  {
   "cell_type": "markdown",
   "metadata": {},
   "source": [
    "### base callback class\n",
    "- does no real things\n",
    "- fetch names from children\n",
    "- set runner"
   ]
  },
  {
   "cell_type": "code",
   "execution_count": 21,
   "metadata": {},
   "outputs": [],
   "source": [
    "#export\n",
    "class Callback():\n",
    "    _order = 0 # used later to set order of the callback calls\n",
    "    def set_runner(self, runner):\n",
    "        self.runner = runner\n",
    "    \n",
    "    def __getattr__(self, key): # fetch the requested parameter from runner\n",
    "        return getattr(self.runner, key) # most hardwork is here\n",
    "    \n",
    "    @property\n",
    "    def name(self):\n",
    "        name = re.sub(r'Callback$','', self.__class__.__name__)\n",
    "        return camel2snake(name or 'callback')"
   ]
  },
  {
   "cell_type": "markdown",
   "metadata": {},
   "source": [
    "This first callback is reponsible to switch the model back and forth in training or validation mode, as well as maintaining a count of the iterations, or the percentage of iterations elapsed in the epoch."
   ]
  },
  {
   "cell_type": "code",
   "execution_count": 22,
   "metadata": {},
   "outputs": [],
   "source": [
    "#export\n",
    "class TrainEvalCallback(Callback):\n",
    "    def begin_fit(self):\n",
    "        self.runner.epochs_elp = 0. # number of epochs elapsed during training\n",
    "        self.runner.batch_elp = 0. # number of batches elapsed\n",
    "        # default return None\n",
    "    \n",
    "    def begin_epoch(self):\n",
    "        self.runner.epochs_elp = self.ep # will be provided in training loop\n",
    "        self.model.train() # set by runner property\n",
    "        self.runner.in_train = True\n",
    "    \n",
    "    def after_batch(self):\n",
    "        if not self.in_train: return \n",
    "        self.runner.epochs_elp += 1./self.num_batch # this will be run num_batch times during training/valid phases\n",
    "        self.runner.batch_elp += 1\n",
    "    \n",
    "    def begin_validation(self):\n",
    "        self.model.eval() # set by runner property\n",
    "        self.runner.in_train = False\n",
    "        "
   ]
  },
  {
   "cell_type": "code",
   "execution_count": 23,
   "metadata": {},
   "outputs": [
    {
     "data": {
      "text/plain": [
       "'train_eval'"
      ]
     },
     "execution_count": 23,
     "metadata": {},
     "output_type": "execute_result"
    }
   ],
   "source": [
    "TrainEvalCallback().name"
   ]
  },
  {
   "cell_type": "code",
   "execution_count": 24,
   "metadata": {},
   "outputs": [],
   "source": [
    "# export\n",
    "# helper function: standardize everything into lists\n",
    "from typing import Iterable\n",
    "\n",
    "def listify(inp):\n",
    "    if inp is None: return []\n",
    "    if isinstance(inp, list): return inp\n",
    "    if isinstance(inp, Iterable): return list(inp)\n",
    "    return [inp] "
   ]
  },
  {
   "cell_type": "markdown",
   "metadata": {},
   "source": [
    "Runner class"
   ]
  },
  {
   "cell_type": "code",
   "execution_count": 25,
   "metadata": {},
   "outputs": [],
   "source": [
    "#export\n",
    "class Runner(): # take callbacks and run the training\n",
    "    def __init__(self, cbs=None, cb_funcs=None):\n",
    "        # gather all callbacks\n",
    "        cbs = listify(cbs)\n",
    "        for cbf in listify(cb_funcs):\n",
    "            cb = cbf()\n",
    "            setattr(self, cb.name, cb) # name done by base callback class\n",
    "            cbs.append(cb)\n",
    "        self.cbs = [TrainEvalCallback()] + cbs # always need the traineval callback\n",
    "        # set flag\n",
    "        self.stop = False\n",
    "    \n",
    "    def __call__(self, cb_name):\n",
    "        # search through all callbacks in given order\n",
    "        for cb in sorted(self.cbs, key=lambda x: x._order):\n",
    "            f = getattr(cb, cb_name, None) # return None if not found\n",
    "            if f and f(): # if callback name not found, continue the process (by returning false)\n",
    "                return True # a normally-exited f() will return False, so if it returns true, process will stop here\n",
    "        return False # False == continue running == don't stop\n",
    "    \n",
    "    @property\n",
    "    def model(self):\n",
    "        return self.learn.model\n",
    "    @property\n",
    "    def opt(self):\n",
    "        return self.learn.opt\n",
    "    @property\n",
    "    def loss_func(self):\n",
    "        return self.learn.loss_func\n",
    "    @property\n",
    "    def data(self):\n",
    "        return self.learn.data\n",
    "    \n",
    "    def one_batch(self,xb,yb):\n",
    "        self.xb, self.yb = xb, yb\n",
    "        if self('begin_batch'): return\n",
    "        self.pred = self.model(xb)\n",
    "        if self('after_pred'): return\n",
    "        self.loss = self.loss_func(self.pred,yb)\n",
    "        if self('after_loss') or not self.in_train: return\n",
    "        self.loss.backward()\n",
    "        if self('after_backward'): return\n",
    "        self.opt.step()\n",
    "        if self('after_step'): return\n",
    "        self.opt.zero_grad()\n",
    "    \n",
    "    def all_batches(self, dl):\n",
    "        self.num_batch = len(dl)\n",
    "        for xb, yb in dl:\n",
    "            if self.stop: break\n",
    "            self.one_batch(xb,yb)\n",
    "            self('after_batch')\n",
    "        self.stop = False\n",
    "    \n",
    "    def fit(self, epochs, learn):\n",
    "        self.epochs, self.learn = epochs, learn\n",
    "        try:\n",
    "            for cb in self.cbs: cb.set_runner(self) # each callback is a sub-class of Callback\n",
    "            \n",
    "            if self('begin_fit'): return\n",
    "            for ep in range(epochs):\n",
    "                self.ep = ep\n",
    "                if not self('begin_epoch'):\n",
    "                    self.all_batches(self.data.dl_train)\n",
    "                \n",
    "                with torch.no_grad():\n",
    "                    if not self('begin_validation'):\n",
    "                        self.all_batches(self.data.dl_valid)\n",
    "                if self('after_epoch'):break\n",
    "        finally:\n",
    "            self('after_fit')\n",
    "            self.learn= None\n",
    "            \n",
    "        \n",
    "        "
   ]
  },
  {
   "cell_type": "markdown",
   "metadata": {},
   "source": [
    "metrics callbacks"
   ]
  },
  {
   "cell_type": "code",
   "execution_count": 26,
   "metadata": {},
   "outputs": [],
   "source": [
    "#export\n",
    "class AvgStats():\n",
    "    def __init__(self,metrics,in_train):\n",
    "        self.metrics = listify(metrics)\n",
    "        self.in_train = in_train\n",
    "    def reset(self):\n",
    "        self.tot_loss = 0.\n",
    "        self.count = 0\n",
    "        self.tot_mets = [0.] * len(self.metrics)\n",
    "    @property\n",
    "    def all_stats(self):\n",
    "        return [self.tot_loss.item()] + self.tot_mets\n",
    "    @property\n",
    "    def avg_stats(self):\n",
    "        return [st/self.count for st in self.all_stats]\n",
    "    @property\n",
    "    def metric_names(self):\n",
    "        return ['loss'] + [met.__name__ for met in self.metrics]\n",
    "    \n",
    "    def __repr__(self): # improve this to print names as well\n",
    "        if not self.count: return ''\n",
    "        return f\"{'train' if self.in_train else 'valid'}: {[(name + ' = ' + str(st)) for name, st in zip(self.metric_names, self.avg_stats)]}\"\n",
    "    \n",
    "    def accumulate(self,runner): # accumulate total metrics cost\n",
    "        batch_size = runner.xb.shape[0]\n",
    "        self.tot_loss += runner.loss * batch_size # crossentropyloss was averaged\n",
    "        self.count += batch_size\n",
    "        \n",
    "        for i, m in enumerate(self.metrics):\n",
    "            self.tot_mets[i] += m(runner.pred, runner.yb) * batch_size"
   ]
  },
  {
   "cell_type": "code",
   "execution_count": 27,
   "metadata": {},
   "outputs": [],
   "source": [
    "#export\n",
    "class AvgStatsCallback(Callback):\n",
    "    def __init__(self,metrics):\n",
    "        self.train_stats = AvgStats(metrics,True)\n",
    "        self.valid_stats = AvgStats(metrics,False)\n",
    "    \n",
    "    def begin_epoch(self):\n",
    "        self.train_stats.reset()\n",
    "        self.valid_stats.reset()\n",
    "    \n",
    "    def after_loss(self):\n",
    "        stats = self.train_stats if self.in_train else self.valid_stats\n",
    "        with torch.no_grad():\n",
    "            stats.accumulate(self.runner) # get from the Callback class\n",
    "    def after_epoch(self):\n",
    "        print(self.train_stats) # call __repr__\n",
    "        print(self.valid_stats)"
   ]
  },
  {
   "cell_type": "code",
   "execution_count": 53,
   "metadata": {},
   "outputs": [],
   "source": [
    "#export\n",
    "def get_model(data,lr=0.5,nh=50): # used the databunch from previous section\n",
    "    fan_in = data.train_ds.x.shape[1] # this data is databunch\n",
    "    model = nn.Sequential(nn.Linear(fan_in,nh), nn.ReLU(), nn.Linear(nh, data.c))\n",
    "    return model, optim.SGD(model.parameters(),lr=lr)\n",
    "\n",
    "class Learner():\n",
    "    def __init__(self, model, opt,loss_func, data):\n",
    "        self.model = model\n",
    "        self.loss_func = loss_func\n",
    "        self.opt = opt\n",
    "        self.data=data"
   ]
  },
  {
   "cell_type": "code",
   "execution_count": 29,
   "metadata": {},
   "outputs": [],
   "source": [
    "bs =64\n",
    "data = DataBunch(*get_dls(ds_train, ds_valid, bs), c = 10)"
   ]
  },
  {
   "cell_type": "code",
   "execution_count": 30,
   "metadata": {},
   "outputs": [],
   "source": [
    "learn = Learner(*get_model(data), loss_func, data)"
   ]
  },
  {
   "cell_type": "code",
   "execution_count": 31,
   "metadata": {},
   "outputs": [
    {
     "data": {
      "text/plain": [
       "SGD (\n",
       "Parameter Group 0\n",
       "    dampening: 0\n",
       "    lr: 0.5\n",
       "    momentum: 0\n",
       "    nesterov: False\n",
       "    weight_decay: 0\n",
       ")"
      ]
     },
     "execution_count": 31,
     "metadata": {},
     "output_type": "execute_result"
    }
   ],
   "source": [
    "learn.opt"
   ]
  },
  {
   "cell_type": "code",
   "execution_count": 32,
   "metadata": {},
   "outputs": [],
   "source": [
    "# call as callback\n",
    "# stats = AvgStatsCallback([accuracy])\n",
    "# runner = Runner(cbs = stats)\n",
    "\n",
    "# call as callback functions\n",
    "stats_func = partial(AvgStatsCallback, accuracy)\n",
    "runner = Runner(cb_funcs= stats_func)"
   ]
  },
  {
   "cell_type": "code",
   "execution_count": 33,
   "metadata": {},
   "outputs": [
    {
     "name": "stdout",
     "output_type": "stream",
     "text": [
      "train: ['loss = 0.3202697265625', 'accuracy = tensor(0.8998)']\n",
      "valid: ['loss = 0.215019482421875', 'accuracy = tensor(0.9373)']\n",
      "train: ['loss = 0.14058634765625', 'accuracy = tensor(0.9577)']\n",
      "valid: ['loss = 0.18889375', 'accuracy = tensor(0.9421)']\n"
     ]
    }
   ],
   "source": [
    "runner.fit(2,learn)"
   ]
  },
  {
   "cell_type": "code",
   "execution_count": 34,
   "metadata": {},
   "outputs": [
    {
     "data": {
      "text/plain": [
       "'accuracy'"
      ]
     },
     "execution_count": 34,
     "metadata": {},
     "output_type": "execute_result"
    }
   ],
   "source": [
    "accuracy.__name__"
   ]
  },
  {
   "cell_type": "markdown",
   "metadata": {},
   "source": [
    "# Recorder callback\n",
    "- record loss and learning rate during training"
   ]
  },
  {
   "cell_type": "code",
   "execution_count": 35,
   "metadata": {},
   "outputs": [],
   "source": [
    "#export\n",
    "class Recorder(Callback):\n",
    "    # when _order not defined, will use _order=0 from base class\n",
    "    def begin_fit(self):\n",
    "        self.lrs = []\n",
    "        self.losses = []\n",
    "    \n",
    "    def after_batch(self):\n",
    "        if not self.in_train: return\n",
    "        self.lrs.append(self.opt.param_groups[-1]['lr'])\n",
    "        self.losses.append(self.loss.detach().cpu())\n",
    "    \n",
    "    def plot_lr(self): \n",
    "        plt.plot(self.lrs)\n",
    "    \n",
    "    def plot_loss(self):\n",
    "        plt.plot(self.losses)        "
   ]
  },
  {
   "cell_type": "code",
   "execution_count": 36,
   "metadata": {},
   "outputs": [
    {
     "name": "stdout",
     "output_type": "stream",
     "text": [
      "train: ['loss = 0.106265390625', 'accuracy = tensor(0.9680)']\n",
      "valid: ['loss = 0.11787060546875', 'accuracy = tensor(0.9657)']\n",
      "train: ['loss = 0.089664814453125', 'accuracy = tensor(0.9717)']\n",
      "valid: ['loss = 0.1229322265625', 'accuracy = tensor(0.9651)']\n",
      "train: ['loss = 0.0749523388671875', 'accuracy = tensor(0.9766)']\n",
      "valid: ['loss = 0.1086970458984375', 'accuracy = tensor(0.9705)']\n"
     ]
    }
   ],
   "source": [
    "cb_funcs = [Recorder, \n",
    "            partial(AvgStatsCallback, accuracy)\n",
    "           ]\n",
    "runner = Runner(cb_funcs= cb_funcs)\n",
    "runner.fit(3,learn)"
   ]
  },
  {
   "cell_type": "code",
   "execution_count": 37,
   "metadata": {},
   "outputs": [
    {
     "data": {
      "text/plain": [
       "' this name of the recorder object is registered by Runner.__init__ and \\nhandled by name property of the Callback base class '"
      ]
     },
     "execution_count": 37,
     "metadata": {},
     "output_type": "execute_result"
    },
    {
     "data": {
      "image/png": "[encoded data removed]",
      "text/plain": [
       "<Figure size 432x288 with 1 Axes>"
      ]
     },
     "metadata": {
      "needs_background": "light"
     },
     "output_type": "display_data"
    }
   ],
   "source": [
    "runner.recorder.plot_lr() \n",
    "''' this name of the recorder object is registered by Runner.__init__ and \n",
    "handled by name property of the Callback base class '''"
   ]
  },
  {
   "cell_type": "code",
   "execution_count": 38,
   "metadata": {},
   "outputs": [
    {
     "data": {
      "image/png": "[encoded data removed]",
      "text/plain": [
       "<Figure size 432x288 with 1 Axes>"
      ]
     },
     "metadata": {
      "needs_background": "light"
     },
     "output_type": "display_data"
    }
   ],
   "source": [
    "runner.recorder.plot_loss()"
   ]
  },
  {
   "cell_type": "markdown",
   "metadata": {},
   "source": [
    "# Parameter scheduler callback\n",
    "- variable learning rate\n",
    "- applicable to all other hyperparameters"
   ]
  },
  {
   "cell_type": "code",
   "execution_count": 39,
   "metadata": {},
   "outputs": [],
   "source": [
    "#export\n",
    "class ParamScheduler(Callback):\n",
    "    # simply reset desired parameter in param_groups using sched_func\n",
    "    _order = 1 # start later than TrainEvalCallback etc\n",
    "    def __init__(self, pname, sched_func):\n",
    "        self.pname = pname\n",
    "        self.sched_func = sched_func\n",
    "    def set_param(self):\n",
    "        for pg in self.opt.param_groups:\n",
    "            pg[self.pname] = self.sched_func(self.epochs_elp/self.epochs) # percent epoch elapsed\n",
    "    def begin_batch(self):\n",
    "        if self.in_train:\n",
    "            self.set_param()"
   ]
  },
  {
   "cell_type": "markdown",
   "metadata": {},
   "source": [
    "### scheduler function\n",
    "- we want a function that at initialization we can specify start and end values of the parameter, but once called only take one pos (percent) argument and returns the current position according to the schedule function"
   ]
  },
  {
   "cell_type": "code",
   "execution_count": 40,
   "metadata": {},
   "outputs": [
    {
     "data": {
      "text/plain": [
       "2.5"
      ]
     },
     "execution_count": 40,
     "metadata": {},
     "output_type": "execute_result"
    }
   ],
   "source": [
    "def lin_sched(start, end):\n",
    "    # pos argument is the percent from start to end\n",
    "    def _inner(start,end, pos): return start+pos*(end-start)\n",
    "    return partial(_inner, start, end)\n",
    "\n",
    "f = lin_sched(0,5)\n",
    "f(0.5)"
   ]
  },
  {
   "cell_type": "markdown",
   "metadata": {},
   "source": [
    "Annealer essentially hides some parameters from the function in both initialization and call phase"
   ]
  },
  {
   "cell_type": "code",
   "execution_count": 41,
   "metadata": {},
   "outputs": [],
   "source": [
    "def annealer(f):\n",
    "    def _inner(start, end): return partial(f,start,end)\n",
    "    return _inner\n",
    "\n",
    "@annealer\n",
    "def sched_lin(start, end, pos): return start+pos*(end-start)\n",
    "@annealer\n",
    "def sched_cos(start, end, pos): return start + (1 + math.cos(math.pi*(1-pos))) * (end-start) / 2\n",
    "@annealer\n",
    "def sched_exp(start, end, pos): return start*(end/start)**pos\n",
    "@annealer\n",
    "def sched_no(start, end, pos): return start"
   ]
  },
  {
   "cell_type": "code",
   "execution_count": 42,
   "metadata": {},
   "outputs": [
    {
     "data": {
      "text/plain": [
       "2.5"
      ]
     },
     "execution_count": 42,
     "metadata": {},
     "output_type": "execute_result"
    }
   ],
   "source": [
    "f = sched_lin(0, 5)\n",
    "f(0.5)"
   ]
  },
  {
   "cell_type": "code",
   "execution_count": 43,
   "metadata": {},
   "outputs": [
    {
     "data": {
      "image/png": "[encoded data removed]",
      "text/plain": [
       "<Figure size 432x288 with 1 Axes>"
      ]
     },
     "metadata": {
      "needs_background": "light"
     },
     "output_type": "display_data"
    }
   ],
   "source": [
    "# just plotting\n",
    "#This monkey-patch is there to be able to plot tensors\n",
    "torch.Tensor.ndim = property(lambda x: len(x.shape)) # Tensor doesn't have ndim attribute so we dynamically create one\n",
    "# this only works for python, which is a dynamic language\n",
    "\n",
    "annealings = \"NO LINEAR COS EXP\".split()\n",
    "\n",
    "a = torch.arange(0, 100)\n",
    "p = torch.linspace(0.01,1,100)\n",
    "\n",
    "fns = [sched_no, sched_lin, sched_cos, sched_exp]\n",
    "for fn, t in zip(fns, annealings):\n",
    "    f = fn(2, 1e-2)\n",
    "    plt.plot(a, [f(o) for o in p], label=t)\n",
    "plt.legend();"
   ]
  },
  {
   "cell_type": "markdown",
   "metadata": {},
   "source": [
    "### combine schedule functions\n",
    "- allows what schedule function to use and how many percent to use"
   ]
  },
  {
   "cell_type": "code",
   "execution_count": 44,
   "metadata": {},
   "outputs": [],
   "source": [
    "#export\n",
    "def combine_scheds(pcts, scheds):\n",
    "    assert sum(pcts) == 1\n",
    "    pcts = torch.tensor([0]+listify(pcts))\n",
    "    assert torch.all(pcts>=0)\n",
    "    pcts = torch.cumsum(pcts, 0) # pcts is cumsum now\n",
    "    def _inner(pos):\n",
    "        idx = (pos >= pcts).nonzero().max() #find out which scheds should currently be used\n",
    "        actual_pos = (pos - pcts[idx])/(pcts[idx+1]-pcts[idx]) # percent pos wrt current schedule\n",
    "        return scheds[idx](actual_pos)\n",
    "    return _inner"
   ]
  },
  {
   "cell_type": "markdown",
   "metadata": {},
   "source": [
    "30% budget to go from 0.3 to 0.6 following cosine, and then 70% time to go from 0.6 to 0.2 fllowing another cosine"
   ]
  },
  {
   "cell_type": "code",
   "execution_count": 45,
   "metadata": {},
   "outputs": [],
   "source": [
    "sched = combine_scheds([0.3, 0.7], [sched_cos(0.3,0.6), sched_cos(0.6,0.2)])"
   ]
  },
  {
   "cell_type": "code",
   "execution_count": 46,
   "metadata": {},
   "outputs": [
    {
     "data": {
      "text/plain": [
       "[<matplotlib.lines.Line2D at 0x11bce45c0>]"
      ]
     },
     "execution_count": 46,
     "metadata": {},
     "output_type": "execute_result"
    },
    {
     "data": {
      "image/png": "[encoded data removed]",
      "text/plain": [
       "<Figure size 432x288 with 1 Axes>"
      ]
     },
     "metadata": {
      "needs_background": "light"
     },
     "output_type": "display_data"
    }
   ],
   "source": [
    "a = torch.arange(0, 100)\n",
    "p = torch.linspace(0.01,1,100)\n",
    "plt.plot(a, [sched(o) for o in p])"
   ]
  },
  {
   "cell_type": "markdown",
   "metadata": {},
   "source": [
    "# Combining all callbacks\n",
    "- TrainEval, Recorder, AvgStats and ParamScheduler"
   ]
  },
  {
   "cell_type": "code",
   "execution_count": 48,
   "metadata": {},
   "outputs": [],
   "source": [
    "cb_funcs = [Recorder, \n",
    "           partial(AvgStatsCallback, accuracy),\n",
    "           partial(ParamScheduler, 'lr', sched)]"
   ]
  },
  {
   "cell_type": "code",
   "execution_count": 47,
   "metadata": {},
   "outputs": [],
   "source": [
    "learn = Learner(*get_model(data), loss_func, data)"
   ]
  },
  {
   "cell_type": "code",
   "execution_count": 49,
   "metadata": {},
   "outputs": [
    {
     "name": "stdout",
     "output_type": "stream",
     "text": [
      "train: ['loss = 0.357826328125', 'accuracy = tensor(0.8917)']\n",
      "valid: ['loss = 0.167788818359375', 'accuracy = tensor(0.9523)']\n",
      "train: ['loss = 0.16764318359375', 'accuracy = tensor(0.9495)']\n",
      "valid: ['loss = 0.2017992919921875', 'accuracy = tensor(0.9418)']\n",
      "train: ['loss = 0.114507275390625', 'accuracy = tensor(0.9646)']\n",
      "valid: ['loss = 0.1122421875', 'accuracy = tensor(0.9669)']\n",
      "train: ['loss = 0.0797396923828125', 'accuracy = tensor(0.9752)']\n",
      "valid: ['loss = 0.10411583251953126', 'accuracy = tensor(0.9707)']\n",
      "train: ['loss = 0.0596636767578125', 'accuracy = tensor(0.9813)']\n",
      "valid: ['loss = 0.09167529296875', 'accuracy = tensor(0.9735)']\n"
     ]
    }
   ],
   "source": [
    "runner = Runner(cb_funcs= cb_funcs)\n",
    "runner.fit(5,learn)"
   ]
  },
  {
   "cell_type": "code",
   "execution_count": 50,
   "metadata": {},
   "outputs": [
    {
     "data": {
      "image/png": "[encoded data removed]",
      "text/plain": [
       "<Figure size 432x288 with 1 Axes>"
      ]
     },
     "metadata": {
      "needs_background": "light"
     },
     "output_type": "display_data"
    }
   ],
   "source": [
    "runner.recorder.plot_lr()"
   ]
  },
  {
   "cell_type": "code",
   "execution_count": 51,
   "metadata": {},
   "outputs": [
    {
     "data": {
      "image/png": "[encoded data removed]",
      "text/plain": [
       "<Figure size 432x288 with 1 Axes>"
      ]
     },
     "metadata": {
      "needs_background": "light"
     },
     "output_type": "display_data"
    }
   ],
   "source": [
    "runner.recorder.plot_loss()"
   ]
  },
  {
   "cell_type": "markdown",
   "metadata": {},
   "source": [
    "# Export"
   ]
  },
  {
   "cell_type": "code",
   "execution_count": 52,
   "metadata": {},
   "outputs": [
    {
     "name": "stdout",
     "output_type": "stream",
     "text": [
      "Converted Callbacks_databunch_Lesson3.ipynb to exp/nb_Callbacks.py\r\n"
     ]
    }
   ],
   "source": [
    "!./notebook2script.py Callbacks_databunch_Lesson3.ipynb"
   ]
  },
  {
   "cell_type": "code",
   "execution_count": null,
   "metadata": {},
   "outputs": [],
   "source": []
  }
 ],
 "metadata": {
  "kernelspec": {
   "display_name": "Python 3",
   "language": "python",
   "name": "python3"
  },
  "language_info": {
   "codemirror_mode": {
    "name": "ipython",
    "version": 3
   },
   "file_extension": ".py",
   "mimetype": "text/x-python",
   "name": "python",
   "nbconvert_exporter": "python",
   "pygments_lexer": "ipython3",
   "version": "3.7.3"
  }
 },
 "nbformat": 4,
 "nbformat_minor": 2
}
