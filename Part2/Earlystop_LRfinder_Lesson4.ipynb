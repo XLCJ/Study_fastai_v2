{
 "cells": [
  {
   "cell_type": "code",
   "execution_count": 1,
   "metadata": {},
   "outputs": [],
   "source": [
    "from pathlib import Path\n",
    "import gzip\n",
    "import pickle\n",
    "\n",
    "%matplotlib inline"
   ]
  },
  {
   "cell_type": "code",
   "execution_count": 2,
   "metadata": {},
   "outputs": [],
   "source": [
    "#export\n",
    "import torch\n",
    "from torch import nn, optim\n",
    "from torch.nn import functional as F\n",
    "from torch.utils.data import DataLoader\n",
    "\n",
    "from functools import partial\n",
    "import math\n",
    "import re\n",
    "import matplotlib.pyplot as plt"
   ]
  },
  {
   "cell_type": "markdown",
   "metadata": {},
   "source": [
    "# Path and data"
   ]
  },
  {
   "cell_type": "code",
   "execution_count": 3,
   "metadata": {},
   "outputs": [
    {
     "data": {
      "text/plain": [
       "PosixPath('/Users/xianli/Desktop/fast/Part2/data/mnist.pkl.gz')"
      ]
     },
     "execution_count": 3,
     "metadata": {},
     "output_type": "execute_result"
    }
   ],
   "source": [
    "home_dir = Path('.').resolve()\n",
    "data_dir = home_dir/'data'\n",
    "file_dir = data_dir/'mnist.pkl.gz'\n",
    "\n",
    "file_dir"
   ]
  },
  {
   "cell_type": "code",
   "execution_count": 4,
   "metadata": {},
   "outputs": [],
   "source": [
    "# MNIST_url = 'http://deeplearning.net/data/mnist/mnist.pkl'"
   ]
  },
  {
   "cell_type": "code",
   "execution_count": 5,
   "metadata": {},
   "outputs": [
    {
     "data": {
      "text/plain": [
       "(torch.Size([50000, 784]),\n",
       " torch.Size([50000]),\n",
       " torch.Size([10000, 784]),\n",
       " torch.Size([10000]))"
      ]
     },
     "execution_count": 5,
     "metadata": {},
     "output_type": "execute_result"
    }
   ],
   "source": [
    "with gzip.open(file_dir, 'r') as f:\n",
    "    (x_train, y_train), (x_valid, y_valid), _ = pickle.load(f, encoding='latin-1')\n",
    "x_train, y_train, x_valid, y_valid = map(torch.tensor, (x_train, y_train, x_valid, y_valid))\n",
    "x_train.shape, y_train.shape, x_valid.shape, y_valid.shape"
   ]
  },
  {
   "cell_type": "markdown",
   "metadata": {},
   "source": [
    "# Dataset and dataloader"
   ]
  },
  {
   "cell_type": "code",
   "execution_count": 6,
   "metadata": {},
   "outputs": [],
   "source": [
    "#export\n",
    "class myDataset():\n",
    "    def __init__(self,x,y):\n",
    "        self.x, self.y = x, y\n",
    "    def __len__(self):\n",
    "        return self.x.shape[0]\n",
    "    def __getitem__(self,i):\n",
    "        return self.x[i], self.y[i]"
   ]
  },
  {
   "cell_type": "code",
   "execution_count": 7,
   "metadata": {},
   "outputs": [],
   "source": [
    "#export\n",
    "def get_dls(ds_train, ds_valid, bs, **kwargs):\n",
    "    return DataLoader(ds_train, bs, shuffle=True, **kwargs), DataLoader(ds_valid, bs, shuffle=False, **kwargs)"
   ]
  },
  {
   "cell_type": "code",
   "execution_count": 8,
   "metadata": {},
   "outputs": [],
   "source": [
    "ds_train, ds_valid = myDataset(x_train,y_train), myDataset(x_valid,y_valid)"
   ]
  },
  {
   "cell_type": "code",
   "execution_count": 9,
   "metadata": {},
   "outputs": [],
   "source": [
    "bs = 64"
   ]
  },
  {
   "cell_type": "code",
   "execution_count": 10,
   "metadata": {},
   "outputs": [],
   "source": [
    "#export\n",
    "class DataBunch():\n",
    "    def __init__(self, dl_train,dl_valid, c_out = None):\n",
    "        self.dl_train = dl_train\n",
    "        self.dl_valid = dl_valid\n",
    "        self.c_out = c_out\n",
    "    @property\n",
    "    def train_ds(self):\n",
    "        return self.dl_train.dataset\n",
    "    @property\n",
    "    def valid_ds(self):\n",
    "        return self.dl_valid.dataset"
   ]
  },
  {
   "cell_type": "code",
   "execution_count": 11,
   "metadata": {},
   "outputs": [],
   "source": [
    "data = DataBunch(*get_dls(ds_train,ds_valid, bs),c_out=10)"
   ]
  },
  {
   "cell_type": "code",
   "execution_count": 12,
   "metadata": {},
   "outputs": [
    {
     "data": {
      "text/plain": [
       "(50000, 10000)"
      ]
     },
     "execution_count": 12,
     "metadata": {},
     "output_type": "execute_result"
    }
   ],
   "source": [
    "len(data.train_ds), len(data.valid_ds)"
   ]
  },
  {
   "cell_type": "markdown",
   "metadata": {},
   "source": [
    "# Model, loss and metric"
   ]
  },
  {
   "cell_type": "code",
   "execution_count": 30,
   "metadata": {},
   "outputs": [],
   "source": [
    "#export\n",
    "def get_model(data,lr=0.5,nh=50): # used the databunch from previous section\n",
    "    fan_in = data.train_ds.x.shape[1] # this data is databunch\n",
    "    model = nn.Sequential(nn.Linear(fan_in,nh), nn.ReLU(), nn.Linear(nh, data.c_out))\n",
    "    return model, optim.SGD(model.parameters(),lr=lr)"
   ]
  },
  {
   "cell_type": "code",
   "execution_count": 14,
   "metadata": {},
   "outputs": [],
   "source": [
    "loss_func = F.cross_entropy"
   ]
  },
  {
   "cell_type": "code",
   "execution_count": 15,
   "metadata": {},
   "outputs": [],
   "source": [
    "#export\n",
    "def accuracy(pred, targ):\n",
    "    return (torch.argmax(pred, dim=1)==targ).float().mean()"
   ]
  },
  {
   "cell_type": "markdown",
   "metadata": {},
   "source": [
    "# Minimal callback example"
   ]
  },
  {
   "cell_type": "code",
   "execution_count": 16,
   "metadata": {},
   "outputs": [],
   "source": [
    "from time import sleep\n",
    "class Slow_linear():\n",
    "    def __init__(self, val, cb=None):\n",
    "        self.val = val\n",
    "        self.output = 0.\n",
    "        self.cb = cb\n",
    "        \n",
    "    def __call__(self, cb_name, *args):\n",
    "        if not self.cb: return\n",
    "        f = getattr(self.cb, cb_name, None)\n",
    "        if f:\n",
    "            return f(self,*args)\n",
    "    \n",
    "    def repeat_n(self, n):\n",
    "        for i in range(n):\n",
    "            if self('before_each'): return\n",
    "            self.output = self.val+i\n",
    "            if self('after_each',i): break\n",
    "            sleep(0.2)\n",
    "            print(self.output)\n",
    "\n",
    "                \n",
    "class SquareCallback():\n",
    "    def after_each(self, obj, i):\n",
    "        if i >1:\n",
    "            obj.output = obj.output**2\n",
    "        if i >3:\n",
    "            print('Early stopping')\n",
    "            return True"
   ]
  },
  {
   "cell_type": "code",
   "execution_count": 17,
   "metadata": {},
   "outputs": [
    {
     "name": "stdout",
     "output_type": "stream",
     "text": [
      "2\n",
      "3\n",
      "4\n",
      "5\n",
      "6\n"
     ]
    }
   ],
   "source": [
    "original = Slow_linear(2)\n",
    "original.repeat_n(5)"
   ]
  },
  {
   "cell_type": "code",
   "execution_count": 18,
   "metadata": {},
   "outputs": [
    {
     "name": "stdout",
     "output_type": "stream",
     "text": [
      "2\n",
      "3\n",
      "16\n",
      "25\n",
      "Early stopping\n"
     ]
    }
   ],
   "source": [
    "modified = Slow_linear(2, SquareCallback())\n",
    "modified.repeat_n(5)"
   ]
  },
  {
   "cell_type": "markdown",
   "metadata": {},
   "source": [
    "# Helper functions"
   ]
  },
  {
   "cell_type": "code",
   "execution_count": 19,
   "metadata": {},
   "outputs": [],
   "source": [
    "#export\n",
    "_camel_re1 = re.compile('(.)([A-Z][a-z]+)')\n",
    "_camel_re2 = re.compile('([a-z0-9])([A-Z])')\n",
    "def camel2snake(name):\n",
    "    s1 = re.sub(_camel_re1, r'\\1_\\2', name)\n",
    "    return re.sub(_camel_re2, r'\\1_\\2', s1).lower()"
   ]
  },
  {
   "cell_type": "code",
   "execution_count": 20,
   "metadata": {},
   "outputs": [],
   "source": [
    "# export\n",
    "# helper function: standardize everything into lists\n",
    "from typing import Iterable\n",
    "\n",
    "def listify(inp):\n",
    "    if inp is None: return []\n",
    "    if isinstance(inp, list): return inp\n",
    "    if isinstance(inp, Iterable): return list(inp)\n",
    "    return [inp] "
   ]
  },
  {
   "cell_type": "markdown",
   "metadata": {},
   "source": [
    "# Better callback system and early stopping handler\n",
    "- Problem in original version that uses if -> return: the exit is not complete or we'll have to break every single outside iterations to fully break out. --> Solution: use Exception to immediately jump out of the loops "
   ]
  },
  {
   "cell_type": "code",
   "execution_count": 1,
   "metadata": {},
   "outputs": [],
   "source": [
    "#export\n",
    "# base class\n",
    "class Callback():\n",
    "    _order = 0\n",
    "    def set_runner(self, runner):\n",
    "        self.runner = runner # tells the callback who's calling them\n",
    "        \n",
    "    def __getattr__(self, key):\n",
    "        return getattr(self.runner, key)\n",
    "    \n",
    "    def __call__(self, cb_name):\n",
    "        # this call runs the callbacks\n",
    "        f = getattr(self, cb_name, None) # return None if not found\n",
    "        if f and f(): return True # means break\n",
    "        return False # means normal and continue\n",
    "    \n",
    "    @property\n",
    "    def name(self):\n",
    "        name = re.sub(r'Callback$','', self.__class__.__name__)\n",
    "        return camel2snake(name or 'callback')"
   ]
  },
  {
   "cell_type": "markdown",
   "metadata": {},
   "source": [
    "### Required callback 1: switch between training and validation mode, as well as maintaining a count of the iterations, or the percentage of iterations elapsed in the epoch."
   ]
  },
  {
   "cell_type": "code",
   "execution_count": 40,
   "metadata": {},
   "outputs": [],
   "source": [
    "#export\n",
    "#setting training and evaluation phases callback\n",
    "class TrainEvalCallback(Callback):\n",
    "    def begin_fit(self):\n",
    "        self.runner.epochs_elp=0.\n",
    "        self.runner.batch_elp = 0.\n",
    "        \n",
    "    def begin_epoch(self):\n",
    "        self.runner.epochs_elp = self.ep\n",
    "        self.model.train()\n",
    "        self.runner.in_train = True\n",
    "    \n",
    "    def after_batch(self):\n",
    "        if not self.in_train: return\n",
    "        self.runner.epochs_elp += 1./self.num_batch\n",
    "        self.runner.batch_elp +=1\n",
    "    \n",
    "    def begin_validation(self):\n",
    "        self.model.eval()\n",
    "        self.runner.in_train=False"
   ]
  },
  {
   "cell_type": "markdown",
   "metadata": {},
   "source": [
    "- Define new exceptions that have the same behavior as default"
   ]
  },
  {
   "cell_type": "code",
   "execution_count": 41,
   "metadata": {},
   "outputs": [],
   "source": [
    "#export\n",
    "class CancelBatchException(Exception): pass\n",
    "class CancelEpochException(Exception): pass\n",
    "class CancelTrainException(Exception): pass"
   ]
  },
  {
   "cell_type": "code",
   "execution_count": 44,
   "metadata": {},
   "outputs": [],
   "source": [
    "#export\n",
    "class Learner():\n",
    "    _ALL_CBS = {'begin_batch', 'after_pred', 'after_loss', 'after_backward', 'after_step',\n",
    "        'after_cancel_batch', 'after_batch', 'after_cancel_epoch', 'begin_fit',\n",
    "        'begin_epoch', 'begin_epoch', 'begin_validation', 'after_epoch',\n",
    "        'after_cancel_train', 'after_fit'}  \n",
    "    \n",
    "    def __init__(self, model, opt, loss_func, data, cb_objs=None,cb_classes=None):\n",
    "        self.model = model\n",
    "        self.opt= opt\n",
    "        self.loss_func = loss_func\n",
    "        self.data = data\n",
    "        \n",
    "        cbs = listify(cb_objs)\n",
    "        for cbf in listify(cb_classes):\n",
    "            cb = cbf()\n",
    "            setattr(self,cb.name,cb) # name set by base callback class\n",
    "            cbs.append(cb)\n",
    "        self.cbs = [TrainEvalCallback()] + cbs # always need the traineval callback\n",
    "    \n",
    "    def __call__(self, cb_name):\n",
    "        res = False\n",
    "        assert cb_name in self._ALL_CBS # sanity check\n",
    "        for cb in sorted(self.cbs, key=lambda x:x._order):\n",
    "            res = cb(cb_name) and res # ??? always return False???\n",
    "        if res:\n",
    "            print(f'res in Learner __call__ returns {res}!!')\n",
    "        return res\n",
    "    \n",
    "    def one_batch(self,xb,yb):\n",
    "        try:\n",
    "            self.xb, self.yb = xb,yb\n",
    "            self('begin_batch')\n",
    "            self.pred = self.model(xb)\n",
    "            self('after_pred')\n",
    "            self.loss = self.loss_func(self.pred, self.yb)\n",
    "            self('after_loss')\n",
    "            if not self.in_train: return\n",
    "            self.loss.backward()\n",
    "            self('after_backward')\n",
    "            self.opt.step()\n",
    "            self('after_step')\n",
    "            self.opt.zero_grad()\n",
    "        except CancelBatchException: self('after_cancel_batch')\n",
    "        finally:\n",
    "            self('after_batch')\n",
    "    \n",
    "    def all_batches(self,dl):\n",
    "        self.num_batch = len(dl)\n",
    "        try:\n",
    "            for xb, yb in dl:\n",
    "                self.one_batch(xb, yb)\n",
    "        except CancelEpochException: \n",
    "            self('after_cancel_epoch')\n",
    "    \n",
    "    def fit(self, epochs):\n",
    "        self.epochs = epochs\n",
    "        try:\n",
    "            for cb in self.cbs: cb.set_runner(self)\n",
    "  \n",
    "            self('begin_fit')\n",
    "            for ep in range(epochs):\n",
    "                self.ep = ep\n",
    "                if not self('begin_epoch'):\n",
    "                    self.all_batches(self.data.dl_train)\n",
    "                # validate in each epoch\n",
    "                with torch.no_grad():\n",
    "                    if not self('begin_validation'):\n",
    "                        self.all_batches(self.data.dl_valid)\n",
    "                self('after_epoch')\n",
    "        except CancelTrainException: self('after_cancel_train')\n",
    "        finally: \n",
    "            self('after_fit')             "
   ]
  },
  {
   "cell_type": "code",
   "execution_count": 45,
   "metadata": {},
   "outputs": [],
   "source": [
    "learner = Learner(*get_model(data), loss_func, data)\n",
    "learner.fit(5)"
   ]
  },
  {
   "cell_type": "markdown",
   "metadata": {},
   "source": [
    "### optional callback 1: printing metrics"
   ]
  },
  {
   "cell_type": "code",
   "execution_count": 46,
   "metadata": {},
   "outputs": [],
   "source": [
    "#export\n",
    "class AvgStats(): # general class for all kinds of stats\n",
    "    def __init__(self, metrics, in_train):\n",
    "        self.metrics = listify(metrics)\n",
    "        self.in_train = in_train\n",
    "    def reset(self):\n",
    "        self.tot_loss = 0.\n",
    "        self.count = 0\n",
    "        self.tot_mets = [0.] *len(self.metrics)\n",
    "    \n",
    "    @property\n",
    "    def all_stats(self):\n",
    "        return [self.tot_loss.item()] + self.tot_mets\n",
    "    @property\n",
    "    def avg_stats(self):\n",
    "        return [st/self.count for st in self.all_stats]\n",
    "    @property\n",
    "    def metric_names(self):\n",
    "        return ['loss'] + [met.__name__ for met in self.metrics]\n",
    "    \n",
    "    def __repr__(self):\n",
    "        if not self.count: return ''\n",
    "        return f\"{'train' if self.in_train else 'valid'}: {[(name + ' = ' + str(st)) for name, st in zip(self.metric_names, self.avg_stats)]}\"\n",
    "    \n",
    "    def accumulate(self, runner):\n",
    "        # accumulate loss\n",
    "        batch_size = runner.xb.shape[0]\n",
    "        self.tot_loss += runner.loss * batch_size # CrossEntropyLoss was averaged\n",
    "        self.count += batch_size\n",
    "        # accumulate metrics\n",
    "        for i, m in enumerate(self.metrics): # if the name doesn't agree, add an property\n",
    "            self.tot_mets[i] += m(runner.pred, runner.yb) * batch_size # assume averaged metric value\n",
    "\n",
    "class AvgStatsCallback(Callback): # define when AvgStats is used and how it's used in various phases of training\n",
    "    def __init__(self, metrics): \n",
    "        self.train_stats = AvgStats(metrics,True)\n",
    "        self.valid_stats = AvgStats(metrics,False)\n",
    "        \n",
    "    def begin_epoch(self):\n",
    "        self.train_stats.reset()\n",
    "        self.valid_stats.reset()\n",
    "    \n",
    "    def after_loss(self):\n",
    "        stat = self.train_stats if self.in_train else self.valid_stats\n",
    "        with torch.no_grad():\n",
    "            stat.accumulate(self.runner)\n",
    "    def after_epoch(self):\n",
    "        print(self.train_stats) # call __repr__\n",
    "        print(self.valid_stats)\n",
    "    "
   ]
  },
  {
   "cell_type": "code",
   "execution_count": 47,
   "metadata": {},
   "outputs": [
    {
     "name": "stdout",
     "output_type": "stream",
     "text": [
      "train: ['loss = 0.31626896484375', 'accuracy = tensor(0.9029)']\n",
      "valid: ['loss = 0.16654102783203126', 'accuracy = tensor(0.9491)']\n",
      "train: ['loss = 0.14228103515625', 'accuracy = tensor(0.9565)']\n",
      "valid: ['loss = 0.12325469970703125', 'accuracy = tensor(0.9633)']\n",
      "train: ['loss = 0.104723193359375', 'accuracy = tensor(0.9682)']\n",
      "valid: ['loss = 0.261717236328125', 'accuracy = tensor(0.9364)']\n",
      "train: ['loss = 0.086741552734375', 'accuracy = tensor(0.9731)']\n",
      "valid: ['loss = 0.10051858520507813', 'accuracy = tensor(0.9703)']\n",
      "train: ['loss = 0.0725842626953125', 'accuracy = tensor(0.9771)']\n",
      "valid: ['loss = 0.19067257080078126', 'accuracy = tensor(0.9524)']\n"
     ]
    }
   ],
   "source": [
    "cb_obj = [AvgStatsCallback([accuracy])]\n",
    "learner = Learner(*get_model(data), loss_func, data, cb_obj)\n",
    "learner.fit(5)"
   ]
  },
  {
   "cell_type": "markdown",
   "metadata": {},
   "source": [
    "### optional callback 2: run a few iterations for testing"
   ]
  },
  {
   "cell_type": "code",
   "execution_count": 63,
   "metadata": {},
   "outputs": [],
   "source": [
    "#export\n",
    "class TestRunCallback(Callback):\n",
    "    _order = 100 # run last\n",
    "    def __init__(self, n, print_loss=False, plot_loss=True):\n",
    "        self.n = n # run n iterations\n",
    "        self.save_losses = []\n",
    "        self.count = 0\n",
    "        self.print_loss, self.plot_loss = print_loss, plot_loss\n",
    "    \n",
    "    def reset(self):\n",
    "        self.count = 0\n",
    "        self.save_losses = []\n",
    "        \n",
    "    def after_batch(self):\n",
    "        self.count += 1\n",
    "        self.save_losses.append(self.loss) # Callback class will find self.loss\n",
    "        if self.count > self.n:\n",
    "            raise CancelTrainException()\n",
    "        if self.print_loss:\n",
    "            print(f'Completed batch #{self.count}, loss = {self.loss}')\n",
    "        \n",
    "    def after_fit(self):\n",
    "        if self.plot_loss:\n",
    "            plt.subplot()\n",
    "            plt.plot(self.save_losses)\n",
    "            plt.xlabel('Number of batches trained')\n",
    "            plt.ylabel('Loss')\n",
    "        self.reset()"
   ]
  },
  {
   "cell_type": "code",
   "execution_count": 64,
   "metadata": {},
   "outputs": [
    {
     "name": "stdout",
     "output_type": "stream",
     "text": [
      "Completed batch #1, loss = 2.2948713302612305\n",
      "Completed batch #2, loss = 2.2112996578216553\n",
      "Completed batch #3, loss = 2.1371114253997803\n",
      "Completed batch #4, loss = 2.098545551300049\n",
      "Completed batch #5, loss = 2.0053117275238037\n",
      "Completed batch #6, loss = 1.88539457321167\n",
      "Completed batch #7, loss = 1.707342505455017\n",
      "Completed batch #8, loss = 1.6761274337768555\n",
      "Completed batch #9, loss = 1.519668459892273\n",
      "Completed batch #10, loss = 1.3675857782363892\n"
     ]
    },
    {
     "data": {
      "image/png": "[encoded data removed]",
      "text/plain": [
       "<Figure size 432x288 with 1 Axes>"
      ]
     },
     "metadata": {
      "needs_background": "light"
     },
     "output_type": "display_data"
    }
   ],
   "source": [
    "cb_objs = [AvgStatsCallback([accuracy]), TestRunCallback(10,True)]\n",
    "learner = Learner(*get_model(data), loss_func, data, cb_objs)\n",
    "learner.fit(5)"
   ]
  },
  {
   "cell_type": "markdown",
   "metadata": {},
   "source": [
    "### Optional callback 3: record loss and learning rate during training"
   ]
  },
  {
   "cell_type": "code",
   "execution_count": 126,
   "metadata": {},
   "outputs": [],
   "source": [
    "#export\n",
    "class Recorder(Callback):\n",
    "    def begin_fit(self):\n",
    "        self.lrs = [[] for _ in self.opt.param_groups]\n",
    "        self.losses = []\n",
    "    \n",
    "    def after_batch(self):\n",
    "        if not self.in_train: return\n",
    "        for pg, lr in zip(self.opt.param_groups, self.lrs):\n",
    "            lr.append(pg['lr']) # learning rate for each param group\n",
    "        self.losses.append(self.loss.detach().cpu())\n",
    "    \n",
    "    def plot_lr(self, pgid = -1):\n",
    "        plt.plot(self.lrs[pgid])\n",
    "\n",
    "    def plot_loss(self, skip_last=0):\n",
    "        plt.subplot()\n",
    "        plt.plot(self.losses[:len(self.losses)-skip_last])\n",
    "        plt.xlabel('Number of batches trained')\n",
    "        plt.ylabel('Loss')\n",
    "    \n",
    "    # this is designed for LR_finder\n",
    "    def plot(self, skip_last=0,pgid=-1): # plot lr vs losses\n",
    "        losses = [o.item() for o in self.losses]\n",
    "        lrs = self.lrs[pgid]\n",
    "        n = len(losses) - skip_last\n",
    "        plt.xscale('log')\n",
    "        plt.plot(lrs[:n],losses[:n])\n",
    "        plt.xlabel('Learning rate')\n",
    "        plt.ylabel('Loss')\n",
    "        "
   ]
  },
  {
   "cell_type": "code",
   "execution_count": 69,
   "metadata": {},
   "outputs": [
    {
     "name": "stdout",
     "output_type": "stream",
     "text": [
      "train: ['loss = 0.31133986328125', 'accuracy = tensor(0.9036)']\n",
      "valid: ['loss = 0.563991796875', 'accuracy = tensor(0.8603)']\n",
      "train: ['loss = 0.138580576171875', 'accuracy = tensor(0.9580)']\n",
      "valid: ['loss = 0.2642146240234375', 'accuracy = tensor(0.9149)']\n",
      "train: ['loss = 0.10548115234375', 'accuracy = tensor(0.9681)']\n",
      "valid: ['loss = 0.09866235961914062', 'accuracy = tensor(0.9711)']\n",
      "train: ['loss = 0.08519353515625', 'accuracy = tensor(0.9734)']\n",
      "valid: ['loss = 0.106950927734375', 'accuracy = tensor(0.9697)']\n",
      "train: ['loss = 0.0727147998046875', 'accuracy = tensor(0.9773)']\n",
      "valid: ['loss = 0.09800508422851563', 'accuracy = tensor(0.9733)']\n"
     ]
    }
   ],
   "source": [
    "# # pass callbacks as objects\n",
    "# cb_objs = [Recorder(), AvgStatsCallback([accuracy])]\n",
    "# learner = Learner(*get_model(data), loss_func, data, cb_objs)\n",
    "\n",
    "# pass callbacks as functions\n",
    "cb_funcs = [Recorder, partial(AvgStatsCallback, accuracy)]\n",
    "learner = Learner(*get_model(data), loss_func, data, cb_classes=cb_funcs)\n",
    "learner.fit(5)"
   ]
  },
  {
   "cell_type": "code",
   "execution_count": 73,
   "metadata": {},
   "outputs": [
    {
     "data": {
      "image/png": "[encoded data removed]",
      "text/plain": [
       "<Figure size 432x288 with 1 Axes>"
      ]
     },
     "metadata": {
      "needs_background": "light"
     },
     "output_type": "display_data"
    }
   ],
   "source": [
    "learner.recorder.plot_loss()"
   ]
  },
  {
   "cell_type": "markdown",
   "metadata": {},
   "source": [
    "### optional callback 4: Parameter Scheduler (e.g. one-cycle fit)"
   ]
  },
  {
   "cell_type": "code",
   "execution_count": 93,
   "metadata": {},
   "outputs": [],
   "source": [
    "#export\n",
    "class ParamScheduler(Callback):\n",
    "    _order = 1\n",
    "    def __init__(self, pname, sched_funcs):\n",
    "        self.pname, self.sched_funcs = pname, sched_funcs\n",
    "    \n",
    "    def begin_fit(self):\n",
    "        if not isinstance(self.sched_funcs,(list,tuple)): # i.e. it's a single function \n",
    "            self.sched_funcs = [self.sched_funcs] * len(self.opt.param_groups) # one scheduler for each param_group\n",
    "    \n",
    "    def set_param(self):\n",
    "        assert len(self.opt.param_groups) == len(self.sched_funcs)\n",
    "        for pg, f in zip(self.opt.param_groups, self.sched_funcs):\n",
    "            pg[self.pname] = f(self.epochs_elp/self.epochs) # this argument is percent progress\n",
    "    \n",
    "    def begin_batch(self):\n",
    "        if self.in_train: self.set_param()"
   ]
  },
  {
   "cell_type": "code",
   "execution_count": 94,
   "metadata": {},
   "outputs": [],
   "source": [
    "#export\n",
    "# annealer\n",
    "def annealer(f):\n",
    "    def _inner(st,en): return partial(f,st,en)\n",
    "    return _inner"
   ]
  },
  {
   "cell_type": "code",
   "execution_count": 103,
   "metadata": {},
   "outputs": [],
   "source": [
    "#export\n",
    "# schedule functions\n",
    "@annealer\n",
    "def sched_lin(start, end, pos): return start+pos*(end-start)\n",
    "@annealer\n",
    "def sched_exp(start, end, pos): return start*(end/start)**pos\n",
    "@annealer\n",
    "def sched_cos(start, end, pos): return start + (1+math.cos(math.pi*(1-pos)))*(end-start)/2"
   ]
  },
  {
   "cell_type": "code",
   "execution_count": 104,
   "metadata": {},
   "outputs": [],
   "source": [
    "#export\n",
    "# combine schedules and return combined FUNCTION\n",
    "def combine_scheds(pcts, scheds):\n",
    "    assert len(pcts) == len(scheds)\n",
    "    assert sum(pcts) == 1\n",
    "    pcts = torch.tensor([0]+listify(pcts))\n",
    "    assert torch.all(pcts>=0)\n",
    "    pcts = torch.cumsum(pcts, dim=0)\n",
    "    def _inner(pos):\n",
    "        idx = (pos >= pcts).nonzero().max() # index of the current schedule function to use\n",
    "        actual_pos =  (pos - pcts[idx])/(pcts[idx+1] - pcts[idx]) # percent pos wrt current schedule\n",
    "        return scheds[idx](actual_pos)\n",
    "    return _inner"
   ]
  },
  {
   "cell_type": "code",
   "execution_count": 105,
   "metadata": {},
   "outputs": [
    {
     "data": {
      "text/plain": [
       "tensor([1, 1, 1, 0], dtype=torch.uint8)"
      ]
     },
     "execution_count": 105,
     "metadata": {},
     "output_type": "execute_result"
    }
   ],
   "source": [
    "# just a test\n",
    "pct = torch.tensor([0, 0.1,0.4,1.])\n",
    "pos = 0.5\n",
    "(pos>pct)"
   ]
  },
  {
   "cell_type": "code",
   "execution_count": 116,
   "metadata": {
    "scrolled": true
   },
   "outputs": [
    {
     "name": "stdout",
     "output_type": "stream",
     "text": [
      "train: ['loss = 0.358206015625', 'accuracy = tensor(0.8925)']\n",
      "valid: ['loss = 0.24264287109375', 'accuracy = tensor(0.9279)']\n",
      "train: ['loss = 0.17042142578125', 'accuracy = tensor(0.9486)']\n",
      "valid: ['loss = 0.13117052001953125', 'accuracy = tensor(0.9600)']\n"
     ]
    },
    {
     "data": {
      "image/png": "[encoded data removed]",
      "text/plain": [
       "<Figure size 432x288 with 1 Axes>"
      ]
     },
     "metadata": {
      "needs_background": "light"
     },
     "output_type": "display_data"
    }
   ],
   "source": [
    "sched = combine_scheds([0.3, 0.7], [sched_cos(0.3,0.6), sched_cos(0.6,0.2)])\n",
    "\n",
    "cb_funcs = [Recorder, \n",
    "            partial(ParamScheduler,'lr',sched), \n",
    "            partial(AvgStatsCallback, accuracy),\n",
    "            partial(TestRunCallback,2500)]\n",
    "learner = Learner(*get_model(data), loss_func, data, cb_classes=cb_funcs)\n",
    "learner.fit(5)"
   ]
  },
  {
   "cell_type": "code",
   "execution_count": 117,
   "metadata": {
    "scrolled": true
   },
   "outputs": [
    {
     "data": {
      "image/png": "[encoded data removed]",
      "text/plain": [
       "<Figure size 432x288 with 1 Axes>"
      ]
     },
     "metadata": {
      "needs_background": "light"
     },
     "output_type": "display_data"
    }
   ],
   "source": [
    "learner.recorder.plot_lr()"
   ]
  },
  {
   "cell_type": "code",
   "execution_count": 119,
   "metadata": {},
   "outputs": [
    {
     "data": {
      "image/png": "[encoded data removed]",
      "text/plain": [
       "<Figure size 432x288 with 1 Axes>"
      ]
     },
     "metadata": {
      "needs_background": "light"
     },
     "output_type": "display_data"
    }
   ],
   "source": [
    "learner.recorder.plot()"
   ]
  },
  {
   "cell_type": "markdown",
   "metadata": {},
   "source": [
    "### optional callback 5: LR_Finder"
   ]
  },
  {
   "cell_type": "code",
   "execution_count": 127,
   "metadata": {},
   "outputs": [],
   "source": [
    "#export\n",
    "class LR_Finder(Callback):\n",
    "    _order = 1\n",
    "    def __init__(self, max_iter=100, min_lr=1e-6, max_lr = 10, thres=10):\n",
    "        self.max_iter, self.min_lr, self.max_lr = max_iter, min_lr, max_lr\n",
    "        self.best_loss=1e9\n",
    "        self.thres = thres # if loss > thres * best_loss: stop \n",
    "        \n",
    "    def begin_batch(self):\n",
    "        if not self.in_train: return\n",
    "        pos = self.batch_elp / self.max_iter # self.batch_elp is set by TrainEvalCallback and added to Learner as an attribute\n",
    "        lr = self.min_lr * (self.max_lr/self.min_lr) ** pos # exponentially grow from min_lr to max_lr\n",
    "        for pg in self.opt.param_groups: \n",
    "            pg['lr'] = lr # set all parameter group lrs\n",
    "            \n",
    "    def after_step(self): # stop critera\n",
    "        # stop if iterations exceed max_iter or loss is much worse than the best loss so far\n",
    "        if self.batch_elp >= self.max_iter or self.loss > self.thres*self.best_loss:\n",
    "            raise CancelTrainException()\n",
    "        if self.loss < self.best_loss:\n",
    "            self.best_loss = self.loss # this self.loss is fetched by Callback base class from Learner        "
   ]
  },
  {
   "cell_type": "code",
   "execution_count": 132,
   "metadata": {
    "scrolled": true
   },
   "outputs": [
    {
     "data": {
      "image/png": "[encoded data removed]",
      "text/plain": [
       "<Figure size 432x288 with 1 Axes>"
      ]
     },
     "metadata": {
      "needs_background": "light"
     },
     "output_type": "display_data"
    }
   ],
   "source": [
    "lr_find_cbf = [Recorder, LR_Finder]\n",
    "lrfind_obj = Learner(*get_model(data), loss_func, data, cb_classes=lr_find_cbf)\n",
    "lrfind_obj.fit(2)\n",
    "lrfind_obj.recorder.plot(skip_last=3)"
   ]
  },
  {
   "cell_type": "code",
   "execution_count": 139,
   "metadata": {
    "scrolled": true
   },
   "outputs": [
    {
     "name": "stdout",
     "output_type": "stream",
     "text": [
      "train: ['loss = 0.352866171875', 'accuracy = tensor(0.8942)']\n",
      "valid: ['loss = 0.2200463623046875', 'accuracy = tensor(0.9327)']\n",
      "train: ['loss = 0.166138515625', 'accuracy = tensor(0.9507)']\n",
      "valid: ['loss = 0.122131005859375', 'accuracy = tensor(0.9640)']\n",
      "train: ['loss = 0.111979462890625', 'accuracy = tensor(0.9668)']\n",
      "valid: ['loss = 0.10519422607421874', 'accuracy = tensor(0.9685)']\n",
      "train: ['loss = 0.0794440234375', 'accuracy = tensor(0.9765)']\n",
      "valid: ['loss = 0.09132735595703124', 'accuracy = tensor(0.9722)']\n",
      "train: ['loss = 0.0614870849609375', 'accuracy = tensor(0.9821)']\n",
      "valid: ['loss = 0.08723295288085937', 'accuracy = tensor(0.9727)']\n"
     ]
    }
   ],
   "source": [
    "sched = combine_scheds([0.3, 0.7], [sched_cos(0.3,0.5), sched_cos(0.5,0.1)])\n",
    "\n",
    "cb_funcs = [Recorder, \n",
    "            partial(ParamScheduler,'lr',sched), \n",
    "            partial(AvgStatsCallback, accuracy)]\n",
    "# cb_funcs += [partial(TestRunCallback,200)] # use for testing (i.e. run only a few batches)\n",
    "learner = Learner(*get_model(data), loss_func, data, cb_classes=cb_funcs)\n",
    "learner.fit(5)"
   ]
  },
  {
   "cell_type": "code",
   "execution_count": 141,
   "metadata": {},
   "outputs": [
    {
     "data": {
      "image/png": "[encoded data removed]",
      "text/plain": [
       "<Figure size 432x288 with 1 Axes>"
      ]
     },
     "metadata": {
      "needs_background": "light"
     },
     "output_type": "display_data"
    }
   ],
   "source": [
    "learner.recorder.plot_loss()"
   ]
  },
  {
   "cell_type": "code",
   "execution_count": 142,
   "metadata": {
    "scrolled": true
   },
   "outputs": [
    {
     "data": {
      "image/png": "[encoded data removed]",
      "text/plain": [
       "<Figure size 432x288 with 1 Axes>"
      ]
     },
     "metadata": {
      "needs_background": "light"
     },
     "output_type": "display_data"
    }
   ],
   "source": [
    "learner.recorder.plot_lr()"
   ]
  },
  {
   "cell_type": "code",
   "execution_count": 143,
   "metadata": {},
   "outputs": [
    {
     "data": {
      "image/png": "[encoded data removed]",
      "text/plain": [
       "<Figure size 432x288 with 1 Axes>"
      ]
     },
     "metadata": {
      "needs_background": "light"
     },
     "output_type": "display_data"
    }
   ],
   "source": [
    "learner.recorder.plot()"
   ]
  },
  {
   "cell_type": "markdown",
   "metadata": {},
   "source": [
    "- optional callback 6: save parameters"
   ]
  },
  {
   "cell_type": "code",
   "execution_count": null,
   "metadata": {},
   "outputs": [],
   "source": []
  },
  {
   "cell_type": "markdown",
   "metadata": {},
   "source": [
    "# Export"
   ]
  },
  {
   "cell_type": "code",
   "execution_count": 3,
   "metadata": {},
   "outputs": [
    {
     "name": "stdout",
     "output_type": "stream",
     "text": [
      "Converted Earlystop_LRfinder_Lesson4.ipynb to exp/nb_Earlystop.py\r\n"
     ]
    }
   ],
   "source": [
    "!./notebook2script.py Earlystop_LRfinder_Lesson4.ipynb"
   ]
  },
  {
   "cell_type": "code",
   "execution_count": null,
   "metadata": {},
   "outputs": [],
   "source": []
  }
 ],
 "metadata": {
  "kernelspec": {
   "display_name": "Python 3",
   "language": "python",
   "name": "python3"
  },
  "language_info": {
   "codemirror_mode": {
    "name": "ipython",
    "version": 3
   },
   "file_extension": ".py",
   "mimetype": "text/x-python",
   "name": "python",
   "nbconvert_exporter": "python",
   "pygments_lexer": "ipython3",
   "version": "3.7.3"
  }
 },
 "nbformat": 4,
 "nbformat_minor": 2
}
