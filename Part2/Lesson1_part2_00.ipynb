{
 "cells": [
  {
   "cell_type": "code",
   "execution_count": 1,
   "metadata": {},
   "outputs": [],
   "source": [
    "#export\n",
    "import torch\n",
    "import torch.nn.functional as F"
   ]
  },
  {
   "cell_type": "code",
   "execution_count": 2,
   "metadata": {},
   "outputs": [],
   "source": [
    "#export\n",
    "a = torch.Tensor(3)"
   ]
  },
  {
   "cell_type": "code",
   "execution_count": 3,
   "metadata": {},
   "outputs": [
    {
     "data": {
      "text/plain": [
       "tensor([0.0000e+00, 3.6893e+19, 0.0000e+00])"
      ]
     },
     "execution_count": 3,
     "metadata": {},
     "output_type": "execute_result"
    }
   ],
   "source": [
    "#export\n",
    "a"
   ]
  },
  {
   "cell_type": "code",
   "execution_count": 4,
   "metadata": {},
   "outputs": [
    {
     "name": "stdout",
     "output_type": "stream",
     "text": [
      "Converted Lesson1_part2_00.ipynb to exp/nb_Lesson1.py\r\n"
     ]
    }
   ],
   "source": [
    "# this works only when the files is saved\n",
    "!python notebook2script.py Lesson1_part2_00.ipynb"
   ]
  },
  {
   "cell_type": "code",
   "execution_count": 5,
   "metadata": {},
   "outputs": [],
   "source": [
    "import json\n",
    "d = json.load(open('Lesson1_part2_00.ipynb','r'))['cells']"
   ]
  },
  {
   "cell_type": "code",
   "execution_count": 6,
   "metadata": {},
   "outputs": [
    {
     "data": {
      "text/plain": [
       "[{'cell_type': 'code',\n",
       "  'execution_count': 14,\n",
       "  'metadata': {},\n",
       "  'outputs': [],\n",
       "  'source': ['#export\\n',\n",
       "   'import torch\\n',\n",
       "   'import torch.nn.functional as F']},\n",
       " {'cell_type': 'code',\n",
       "  'execution_count': 15,\n",
       "  'metadata': {},\n",
       "  'outputs': [],\n",
       "  'source': ['#export\\n', 'a = torch.Tensor(3)']},\n",
       " {'cell_type': 'code',\n",
       "  'execution_count': 29,\n",
       "  'metadata': {},\n",
       "  'outputs': [{'data': {'text/plain': ['tensor([8.4078e-45, 0.0000e+00, 0.0000e+00])']},\n",
       "    'execution_count': 29,\n",
       "    'metadata': {},\n",
       "    'output_type': 'execute_result'}],\n",
       "  'source': ['#export\\n', 'a']},\n",
       " {'cell_type': 'code',\n",
       "  'execution_count': 30,\n",
       "  'metadata': {},\n",
       "  'outputs': [{'name': 'stdout',\n",
       "    'output_type': 'stream',\n",
       "    'text': ['Converted Lesson1_part2.ipynb to exp/nb_Lesson1.py\\r\\n']}],\n",
       "  'source': ['# this works only when the files is saved\\n',\n",
       "   '!python notebook2script.py Lesson1_part2.ipynb']},\n",
       " {'cell_type': 'code',\n",
       "  'execution_count': 31,\n",
       "  'metadata': {},\n",
       "  'outputs': [],\n",
       "  'source': ['import json\\n',\n",
       "   \"d = json.load(open('Lesson1_part2.ipynb','r'))['cells']\"]},\n",
       " {'cell_type': 'code',\n",
       "  'execution_count': 32,\n",
       "  'metadata': {},\n",
       "  'outputs': [{'data': {'text/plain': [\"[{'cell_type': 'code',\\n\",\n",
       "      \"  'execution_count': 14,\\n\",\n",
       "      \"  'metadata': {},\\n\",\n",
       "      \"  'outputs': [],\\n\",\n",
       "      \"  'source': ['#export\\\\n',\\n\",\n",
       "      \"   'import torch\\\\n',\\n\",\n",
       "      \"   'import torch.nn.functional as F']},\\n\",\n",
       "      \" {'cell_type': 'code',\\n\",\n",
       "      \"  'execution_count': 15,\\n\",\n",
       "      \"  'metadata': {},\\n\",\n",
       "      \"  'outputs': [],\\n\",\n",
       "      \"  'source': ['#export\\\\n', 'a = torch.Tensor(3)']},\\n\",\n",
       "      \" {'cell_type': 'code',\\n\",\n",
       "      \"  'execution_count': 29,\\n\",\n",
       "      \"  'metadata': {},\\n\",\n",
       "      \"  'outputs': [{'data': {'text/plain': ['tensor([8.4078e-45, 0.0000e+00, 0.0000e+00])']},\\n\",\n",
       "      \"    'execution_count': 29,\\n\",\n",
       "      \"    'metadata': {},\\n\",\n",
       "      \"    'output_type': 'execute_result'}],\\n\",\n",
       "      \"  'source': ['#export\\\\n', 'a']},\\n\",\n",
       "      \" {'cell_type': 'code',\\n\",\n",
       "      \"  'execution_count': 25,\\n\",\n",
       "      \"  'metadata': {},\\n\",\n",
       "      \"  'outputs': [{'name': 'stdout',\\n\",\n",
       "      \"    'output_type': 'stream',\\n\",\n",
       "      \"    'text': ['Converted Lesson1_part2.ipynb to exp/nb_Lesson1.py\\\\r\\\\n']}],\\n\",\n",
       "      \"  'source': ['# this works only when the files is saved\\\\n',\\n\",\n",
       "      \"   '!python notebook2script.py Lesson1_part2.ipynb']},\\n\",\n",
       "      \" {'cell_type': 'code',\\n\",\n",
       "      \"  'execution_count': 27,\\n\",\n",
       "      \"  'metadata': {},\\n\",\n",
       "      \"  'outputs': [],\\n\",\n",
       "      \"  'source': ['import json\\\\n',\\n\",\n",
       "      '   \"d = json.load(open(\\'Lesson1_part2.ipynb\\',\\'r\\'))[\\'cells\\']\"]},\\n',\n",
       "      \" {'cell_type': 'code',\\n\",\n",
       "      \"  'execution_count': 28,\\n\",\n",
       "      \"  'metadata': {},\\n\",\n",
       "      '  \\'outputs\\': [{\\'data\\': {\\'text/plain\\': [\"[{\\'cell_type\\': \\'code\\',\\\\n\",\\n',\n",
       "      '      \"  \\'execution_count\\': 14,\\\\n\",\\n',\n",
       "      '      \"  \\'metadata\\': {},\\\\n\",\\n',\n",
       "      '      \"  \\'outputs\\': [],\\\\n\",\\n',\n",
       "      '      \"  \\'source\\': [\\'#export\\\\\\\\n\\',\\\\n\",\\n',\n",
       "      '      \"   \\'import torch\\\\\\\\n\\',\\\\n\",\\n',\n",
       "      '      \"   \\'import torch.nn.functional as F\\']},\\\\n\",\\n',\n",
       "      '      \" {\\'cell_type\\': \\'code\\',\\\\n\",\\n',\n",
       "      '      \"  \\'execution_count\\': 15,\\\\n\",\\n',\n",
       "      '      \"  \\'metadata\\': {},\\\\n\",\\n',\n",
       "      '      \"  \\'outputs\\': [],\\\\n\",\\n',\n",
       "      '      \"  \\'source\\': [\\'#export\\\\\\\\n\\', \\'a = torch.Tensor(3)\\']},\\\\n\",\\n',\n",
       "      '      \" {\\'cell_type\\': \\'code\\',\\\\n\",\\n',\n",
       "      '      \"  \\'execution_count\\': 22,\\\\n\",\\n',\n",
       "      '      \"  \\'metadata\\': {},\\\\n\",\\n',\n",
       "      '      \"  \\'outputs\\': [{\\'data\\': {\\'text/plain\\': [\\'tensor([8.4078e-45, 0.0000e+00, 0.0000e+00])\\']},\\\\n\",\\n',\n",
       "      '      \"    \\'execution_count\\': 22,\\\\n\",\\n',\n",
       "      '      \"    \\'metadata\\': {},\\\\n\",\\n',\n",
       "      '      \"    \\'output_type\\': \\'execute_result\\'}],\\\\n\",\\n',\n",
       "      '      \"  \\'source\\': [\\'a\\']},\\\\n\",\\n',\n",
       "      '      \" {\\'cell_type\\': \\'code\\',\\\\n\",\\n',\n",
       "      '      \"  \\'execution_count\\': 24,\\\\n\",\\n',\n",
       "      '      \"  \\'metadata\\': {},\\\\n\",\\n',\n",
       "      '      \"  \\'outputs\\': [{\\'name\\': \\'stdout\\',\\\\n\",\\n',\n",
       "      '      \"    \\'output_type\\': \\'stream\\',\\\\n\",\\n',\n",
       "      '      \"    \\'text\\': [\\'Converted Lesson1_part2.ipynb to exp/nb_Lesson1.py\\\\\\\\r\\\\\\\\n\\']}],\\\\n\",\\n',\n",
       "      '      \"  \\'source\\': [\\'# this works only when the files is saved\\\\\\\\n\\',\\\\n\",\\n',\n",
       "      '      \"   \\'!python notebook2script.py Lesson1_part2.ipynb\\']},\\\\n\",\\n',\n",
       "      '      \" {\\'cell_type\\': \\'code\\',\\\\n\",\\n',\n",
       "      '      \"  \\'execution_count\\': None,\\\\n\",\\n',\n",
       "      '      \"  \\'metadata\\': {},\\\\n\",\\n',\n",
       "      '      \"  \\'outputs\\': [],\\\\n\",\\n',\n",
       "      '      \"  \\'source\\': []}]\"]},\\n',\n",
       "      \"    'execution_count': 28,\\n\",\n",
       "      \"    'metadata': {},\\n\",\n",
       "      \"    'output_type': 'execute_result'}],\\n\",\n",
       "      \"  'source': ['d']},\\n\",\n",
       "      \" {'cell_type': 'code',\\n\",\n",
       "      \"  'execution_count': None,\\n\",\n",
       "      \"  'metadata': {},\\n\",\n",
       "      \"  'outputs': [],\\n\",\n",
       "      \"  'source': []}]\"]},\n",
       "    'execution_count': 32,\n",
       "    'metadata': {},\n",
       "    'output_type': 'execute_result'}],\n",
       "  'source': ['d']},\n",
       " {'cell_type': 'code',\n",
       "  'execution_count': None,\n",
       "  'metadata': {},\n",
       "  'outputs': [],\n",
       "  'source': []}]"
      ]
     },
     "execution_count": 6,
     "metadata": {},
     "output_type": "execute_result"
    }
   ],
   "source": [
    "d"
   ]
  },
  {
   "cell_type": "code",
   "execution_count": null,
   "metadata": {},
   "outputs": [],
   "source": []
  }
 ],
 "metadata": {
  "kernelspec": {
   "display_name": "Python 3",
   "language": "python",
   "name": "python3"
  },
  "language_info": {
   "codemirror_mode": {
    "name": "ipython",
    "version": 3
   },
   "file_extension": ".py",
   "mimetype": "text/x-python",
   "name": "python",
   "nbconvert_exporter": "python",
   "pygments_lexer": "ipython3",
   "version": "3.7.3"
  }
 },
 "nbformat": 4,
 "nbformat_minor": 2
}
